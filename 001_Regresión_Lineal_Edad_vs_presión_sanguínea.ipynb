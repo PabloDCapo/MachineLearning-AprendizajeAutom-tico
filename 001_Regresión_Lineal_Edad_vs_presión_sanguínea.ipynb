{
  "cells": [
    {
      "cell_type": "markdown",
      "metadata": {
        "id": "QOeIZxTI6DVC"
      },
      "source": [
        "# Regresión Lineal: Predicción de la presión sanguínea sistólica (medida en mm de Mercurio) según edad de la persona - Sin usar la librería Scikit Learn"
      ]
    },
    {
      "cell_type": "markdown",
      "metadata": {
        "id": "1HXorgEP6DVF"
      },
      "source": [
        "En este ejercicio veremos paso a paso cómo implementar el algoritmo de Regresión Lineal en Python usando únicamente las librerías Pandas, Numpy y Matplotlib.\n",
        "Ejemplo extraíodo del siguiente link:\n",
        "https://www.codificandobits.com/blog/tutorial-regresion-lineal-en-python/"
      ]
    },
    {
      "cell_type": "markdown",
      "metadata": {
        "id": "E4nE6oMl6DVG"
      },
      "source": [
        "## Enunciado del ejercicio"
      ]
    },
    {
      "cell_type": "markdown",
      "metadata": {
        "id": "HWR_oYyR6DVH"
      },
      "source": [
        "Los datos a usar en este tutorial corresponden a la medición de la presión sanguínea sistólica (medida en mm de Mercurio) para 29 sujetos de diferentes edades. En este set de datos la variable independiente (x) corresponde a la edad de cada sujeto, mientras que la variable dependiente (y) es precisamente la presión sanguínea **(Presión sanguínea en función de la edad de las personas)**."
      ]
    },
    {
      "cell_type": "markdown",
      "metadata": {
        "id": "pWnjgUPk6DVI"
      },
      "source": [
        "![Presi%C3%B3nSist%C3%B3lica.jpg](attachment:Presi%C3%B3nSist%C3%B3lica.jpg)"
      ]
    },
    {
      "cell_type": "markdown",
      "metadata": {
        "id": "oqlew1Xn6DVJ"
      },
      "source": [
        "### 1. Librerías requeridas"
      ]
    },
    {
      "cell_type": "markdown",
      "metadata": {
        "id": "pDy9G0kH6DVN"
      },
      "source": [
        "Para la implementación de este algoritmo se requieren tres librerías que se pueden importar en Python usando las siguientes líneas de código:"
      ]
    },
    {
      "cell_type": "code",
      "execution_count": null,
      "metadata": {
        "id": "opi76gF56DVO"
      },
      "outputs": [],
      "source": [
        "import pandas as pd\n",
        "import numpy as np\n",
        "import matplotlib.pyplot as plt\n",
        "%matplotlib inline"
      ]
    },
    {
      "cell_type": "markdown",
      "metadata": {
        "id": "gMuJF7ZD6DVP"
      },
      "source": [
        "### 2. Funciones auxiliares"
      ]
    },
    {
      "cell_type": "markdown",
      "metadata": {
        "id": "mvth5OtN6DVP"
      },
      "source": [
        "Se implementarán tres funciones que en conjunto permiten realizar la regresión lineal de los datos."
      ]
    },
    {
      "cell_type": "markdown",
      "metadata": {
        "id": "kNNbnT6G6DVQ"
      },
      "source": [
        "#### 2.1 El modelo: calcular_modelo"
      ]
    },
    {
      "cell_type": "markdown",
      "metadata": {
        "id": "B1s1iv9m6DVR"
      },
      "source": [
        "Esta función permite calcular cada uno de los datos resultantes de la regresión, y corresponde a la ecuación y=wx+b donde w y b son los parámetros que queremos calcular con el algoritmo de Regresión Lineal.\n",
        "Ésta es la implementación en Python:"
      ]
    },
    {
      "cell_type": "code",
      "execution_count": null,
      "metadata": {
        "id": "gs0qf7u86DVR"
      },
      "outputs": [],
      "source": [
        "def calcular_modelo(w,b,x):\n",
        "    '''Retorna el valor w*x+b correspondiente al modelo lineal'''\n",
        "    return w*x+b"
      ]
    },
    {
      "cell_type": "markdown",
      "metadata": {
        "id": "fibT4jmI6DVS"
      },
      "source": [
        "#### 2.2 El error cuadrático medio: calcular_error"
      ]
    },
    {
      "cell_type": "markdown",
      "metadata": {
        "id": "hcx-SigH6DVT"
      },
      "source": [
        "Es la función de pérdida o función de error que será el error cuadrático medio (ECM). Donde N es el número total de datos (en este caso igual a 29, que es el número total de sujetos).\n",
        "Por lo tanto, el código correspondiente en Python es el siguiente:"
      ]
    },
    {
      "cell_type": "markdown",
      "metadata": {
        "id": "0FVWVl7X6DVT"
      },
      "source": [
        "![mse.PNG](attachment:mse.PNG)"
      ]
    },
    {
      "cell_type": "code",
      "execution_count": null,
      "metadata": {
        "id": "L4LklNjg6DVU"
      },
      "outputs": [],
      "source": [
        "def calcular_error(y,y_):\n",
        "    '''Calcula el error cuadrático medio entre el dato original (y)\n",
        "       y el dato generado por el modelo (y_)'''\n",
        "    N = y.shape[0] # numero de columnas, datos. Para dividir por N\n",
        "    error = np.sum((y-y_)**2)/N  # formula del MSE\n",
        "    #error = (np.sqrt(np.sum(y-y_)**2))/N  # formula de la raiz cuadrada del MSE\n",
        "    return error"
      ]
    },
    {
      "cell_type": "markdown",
      "metadata": {
        "id": "Rni7keCo6DVV"
      },
      "source": [
        "#### 2.3 Algoritmo del Gradiente Descendente: gradiente_descendente"
      ]
    },
    {
      "cell_type": "markdown",
      "metadata": {
        "id": "b45C-XSx6DVV"
      },
      "source": [
        "El algoritmo del Gradiente Descendente permite actualizar los valores w y b haciendo uso de las derivadas del ECM.\n",
        "α representa la tasa de aprendizaje.\n",
        "Así, para la implementación de la función usamos el siguiente código:"
      ]
    },
    {
      "cell_type": "code",
      "execution_count": null,
      "metadata": {
        "id": "e0Q-XZ_Q6DVW"
      },
      "outputs": [],
      "source": [
        "def gradiente_descendente(w_, b_, alpha, x, y):\n",
        "    '''Algoritmo del gradiente descendente para minimizar el error\n",
        "       cuadrático medio'''\n",
        "    N = x.shape[0]      # Cantidad de filas, de datos\n",
        "\n",
        "    # Gradientes: derivadas de la función de error con respecto\n",
        "    # a los parámetros \"w\" y \"b\"\n",
        "    dw = -(2/N)*np.sum(x*(y-(w_*x+b_)))\n",
        "    db = -(2/N)*np.sum(y-(w_*x+b_))\n",
        "\n",
        "    # Actualizar los pesos usando la fórmula del gradiente descendente\n",
        "    w = w_ - alpha*dw\n",
        "    b = b_ - alpha*db\n",
        "\n",
        "    return w, b"
      ]
    },
    {
      "cell_type": "markdown",
      "metadata": {
        "id": "jMjgvNsg6DVX"
      },
      "source": [
        "### 3 Lectura de los datos"
      ]
    },
    {
      "cell_type": "markdown",
      "metadata": {
        "id": "J33TUTFP6DVY"
      },
      "source": [
        "El set de datos se almacenará en un DataFrame de Pandas, y posteriormente las variables edad y presión sanguínea se almacenan en dos arreglos Numpy (x y y respectivamente):"
      ]
    },
    {
      "cell_type": "code",
      "execution_count": null,
      "metadata": {
        "id": "bp2yLKqO6DVZ"
      },
      "outputs": [],
      "source": [
        "datos = pd.read_csv('dataset.csv', sep=\",\", skiprows=32, usecols=[2,3])  # skiprows = 32 elimina las primeras 32 filas del\n",
        "                                                                         # datasets que viene con una introduccion.\n",
        "                                                                         # usecols selecciono las columnas 2 y 3."
      ]
    },
    {
      "cell_type": "code",
      "execution_count": null,
      "metadata": {
        "id": "YcvFIkql6DVZ"
      },
      "outputs": [],
      "source": [
        "x = datos['Age'].values\n",
        "y = datos['Systolic blood pressure'].values"
      ]
    },
    {
      "cell_type": "code",
      "execution_count": null,
      "metadata": {
        "id": "PH-3kkwD6DVa",
        "outputId": "3a3b40a7-48a6-426d-ec76-cecb850809c9"
      },
      "outputs": [
        {
          "name": "stdout",
          "output_type": "stream",
          "text": [
            "<class 'numpy.ndarray'>\n",
            "<class 'numpy.ndarray'>\n"
          ]
        }
      ],
      "source": [
        "print (type(x)) # x en un array de Numpy\n",
        "print (type(y)) # y en un array de Numpy"
      ]
    },
    {
      "cell_type": "code",
      "execution_count": null,
      "metadata": {
        "id": "lkBMloPj6DVc",
        "outputId": "cdcb891a-5cfc-41be-e768-33654c7e5177"
      },
      "outputs": [
        {
          "data": {
            "text/plain": [
              "array([39, 45, 47, 65, 46, 67, 42, 67, 56, 64, 56, 59, 34, 42, 48, 45, 17,\n",
              "       20, 19, 36, 50, 39, 21, 44, 53, 63, 29, 25, 69], dtype=int64)"
            ]
          },
          "execution_count": 37,
          "metadata": {},
          "output_type": "execute_result"
        }
      ],
      "source": [
        "x"
      ]
    },
    {
      "cell_type": "code",
      "execution_count": null,
      "metadata": {
        "id": "vKDu84p86DVd",
        "outputId": "2d1aeaa1-a3d8-413c-c528-5b3508095a92"
      },
      "outputs": [
        {
          "data": {
            "text/plain": [
              "array([144, 138, 145, 162, 142, 170, 124, 158, 154, 162, 150, 140, 110,\n",
              "       128, 130, 135, 114, 116, 124, 136, 142, 120, 120, 160, 158, 144,\n",
              "       130, 125, 175], dtype=int64)"
            ]
          },
          "execution_count": 38,
          "metadata": {},
          "output_type": "execute_result"
        }
      ],
      "source": [
        "y"
      ]
    },
    {
      "cell_type": "markdown",
      "metadata": {
        "id": "3PCNs55E6DVd"
      },
      "source": [
        "Leamos los primeros 10 registros del set de datos"
      ]
    },
    {
      "cell_type": "code",
      "execution_count": null,
      "metadata": {
        "id": "XbtN_eWM6DVg",
        "outputId": "6cbabe58-63ac-401a-da62-cc01d07608c1"
      },
      "outputs": [
        {
          "data": {
            "text/html": [
              "<div>\n",
              "<style scoped>\n",
              "    .dataframe tbody tr th:only-of-type {\n",
              "        vertical-align: middle;\n",
              "    }\n",
              "\n",
              "    .dataframe tbody tr th {\n",
              "        vertical-align: top;\n",
              "    }\n",
              "\n",
              "    .dataframe thead th {\n",
              "        text-align: right;\n",
              "    }\n",
              "</style>\n",
              "<table border=\"1\" class=\"dataframe\">\n",
              "  <thead>\n",
              "    <tr style=\"text-align: right;\">\n",
              "      <th></th>\n",
              "      <th>Age</th>\n",
              "      <th>Systolic blood pressure</th>\n",
              "    </tr>\n",
              "  </thead>\n",
              "  <tbody>\n",
              "    <tr>\n",
              "      <th>0</th>\n",
              "      <td>39</td>\n",
              "      <td>144</td>\n",
              "    </tr>\n",
              "    <tr>\n",
              "      <th>1</th>\n",
              "      <td>45</td>\n",
              "      <td>138</td>\n",
              "    </tr>\n",
              "    <tr>\n",
              "      <th>2</th>\n",
              "      <td>47</td>\n",
              "      <td>145</td>\n",
              "    </tr>\n",
              "    <tr>\n",
              "      <th>3</th>\n",
              "      <td>65</td>\n",
              "      <td>162</td>\n",
              "    </tr>\n",
              "    <tr>\n",
              "      <th>4</th>\n",
              "      <td>46</td>\n",
              "      <td>142</td>\n",
              "    </tr>\n",
              "    <tr>\n",
              "      <th>5</th>\n",
              "      <td>67</td>\n",
              "      <td>170</td>\n",
              "    </tr>\n",
              "    <tr>\n",
              "      <th>6</th>\n",
              "      <td>42</td>\n",
              "      <td>124</td>\n",
              "    </tr>\n",
              "    <tr>\n",
              "      <th>7</th>\n",
              "      <td>67</td>\n",
              "      <td>158</td>\n",
              "    </tr>\n",
              "    <tr>\n",
              "      <th>8</th>\n",
              "      <td>56</td>\n",
              "      <td>154</td>\n",
              "    </tr>\n",
              "    <tr>\n",
              "      <th>9</th>\n",
              "      <td>64</td>\n",
              "      <td>162</td>\n",
              "    </tr>\n",
              "  </tbody>\n",
              "</table>\n",
              "</div>"
            ],
            "text/plain": [
              "   Age  Systolic blood pressure\n",
              "0   39                      144\n",
              "1   45                      138\n",
              "2   47                      145\n",
              "3   65                      162\n",
              "4   46                      142\n",
              "5   67                      170\n",
              "6   42                      124\n",
              "7   67                      158\n",
              "8   56                      154\n",
              "9   64                      162"
            ]
          },
          "execution_count": 39,
          "metadata": {},
          "output_type": "execute_result"
        }
      ],
      "source": [
        "datos.head(10)"
      ]
    },
    {
      "cell_type": "code",
      "execution_count": null,
      "metadata": {
        "id": "C0KM00im6DVh",
        "outputId": "6ecd2e98-f294-4e58-c9c2-85537523dc72"
      },
      "outputs": [
        {
          "data": {
            "text/plain": [
              "pandas.core.frame.DataFrame"
            ]
          },
          "execution_count": 40,
          "metadata": {},
          "output_type": "execute_result"
        }
      ],
      "source": [
        "type (datos) # verificamos que \"datos\" es un DataFrame de Pandas"
      ]
    },
    {
      "cell_type": "code",
      "execution_count": null,
      "metadata": {
        "scrolled": false,
        "id": "i3VROdgX6DVi",
        "outputId": "ca12e44e-4a2a-4929-f067-9fad5b136892"
      },
      "outputs": [
        {
          "data": {
            "text/html": [
              "<div>\n",
              "<style scoped>\n",
              "    .dataframe tbody tr th:only-of-type {\n",
              "        vertical-align: middle;\n",
              "    }\n",
              "\n",
              "    .dataframe tbody tr th {\n",
              "        vertical-align: top;\n",
              "    }\n",
              "\n",
              "    .dataframe thead th {\n",
              "        text-align: right;\n",
              "    }\n",
              "</style>\n",
              "<table border=\"1\" class=\"dataframe\">\n",
              "  <thead>\n",
              "    <tr style=\"text-align: right;\">\n",
              "      <th></th>\n",
              "      <th>Age</th>\n",
              "      <th>Systolic blood pressure</th>\n",
              "    </tr>\n",
              "  </thead>\n",
              "  <tbody>\n",
              "    <tr>\n",
              "      <th>count</th>\n",
              "      <td>29.000000</td>\n",
              "      <td>29.000000</td>\n",
              "    </tr>\n",
              "    <tr>\n",
              "      <th>mean</th>\n",
              "      <td>45.068966</td>\n",
              "      <td>139.862069</td>\n",
              "    </tr>\n",
              "    <tr>\n",
              "      <th>std</th>\n",
              "      <td>15.560782</td>\n",
              "      <td>17.504538</td>\n",
              "    </tr>\n",
              "    <tr>\n",
              "      <th>min</th>\n",
              "      <td>17.000000</td>\n",
              "      <td>110.000000</td>\n",
              "    </tr>\n",
              "    <tr>\n",
              "      <th>25%</th>\n",
              "      <td>36.000000</td>\n",
              "      <td>125.000000</td>\n",
              "    </tr>\n",
              "    <tr>\n",
              "      <th>50%</th>\n",
              "      <td>45.000000</td>\n",
              "      <td>140.000000</td>\n",
              "    </tr>\n",
              "    <tr>\n",
              "      <th>75%</th>\n",
              "      <td>56.000000</td>\n",
              "      <td>154.000000</td>\n",
              "    </tr>\n",
              "    <tr>\n",
              "      <th>max</th>\n",
              "      <td>69.000000</td>\n",
              "      <td>175.000000</td>\n",
              "    </tr>\n",
              "  </tbody>\n",
              "</table>\n",
              "</div>"
            ],
            "text/plain": [
              "             Age  Systolic blood pressure\n",
              "count  29.000000                29.000000\n",
              "mean   45.068966               139.862069\n",
              "std    15.560782                17.504538\n",
              "min    17.000000               110.000000\n",
              "25%    36.000000               125.000000\n",
              "50%    45.000000               140.000000\n",
              "75%    56.000000               154.000000\n",
              "max    69.000000               175.000000"
            ]
          },
          "execution_count": 42,
          "metadata": {},
          "output_type": "execute_result"
        }
      ],
      "source": [
        "datos.describe()\n",
        "# este método incluye los percentiles 25, 50 y 75."
      ]
    },
    {
      "cell_type": "markdown",
      "metadata": {
        "id": "YlqjNVYz6DVk"
      },
      "source": [
        "![percentiles.jpg](attachment:percentiles.jpg)"
      ]
    },
    {
      "cell_type": "code",
      "execution_count": null,
      "metadata": {
        "id": "YzBJzcP96DVk",
        "outputId": "38819341-33a7-4d0f-b47f-d4e1372102e4"
      },
      "outputs": [
        {
          "data": {
            "text/plain": [
              "(29, 2)"
            ]
          },
          "execution_count": 44,
          "metadata": {},
          "output_type": "execute_result"
        }
      ],
      "source": [
        "datos.shape # verificamos que datos tiene 29 filas y 2 columnas"
      ]
    },
    {
      "cell_type": "markdown",
      "metadata": {
        "id": "qvjRul1i6DVm"
      },
      "source": [
        "Veamos en un gráfico el set de datos"
      ]
    },
    {
      "cell_type": "code",
      "execution_count": null,
      "metadata": {
        "id": "bXHUxIQs6DVm",
        "outputId": "b5b1b53d-cd6e-4398-978f-45cea7933065"
      },
      "outputs": [
        {
          "data": {
            "image/png": "[encoded data removed]",
            "text/plain": [
              "<Figure size 640x480 with 1 Axes>"
            ]
          },
          "metadata": {},
          "output_type": "display_data"
        }
      ],
      "source": [
        "plt.scatter(x,y)\n",
        "plt.xlabel('edad')\n",
        "plt.ylabel('presión sanguínea')\n",
        "plt.show()"
      ]
    },
    {
      "cell_type": "markdown",
      "metadata": {
        "id": "gxS8lv_26DVn"
      },
      "source": [
        "### 4. Entrenamiento usando el Gradiente Descendente"
      ]
    },
    {
      "cell_type": "markdown",
      "metadata": {
        "id": "SApzsNjl6DVo"
      },
      "source": [
        "Ahora usamos las tres funciones definidas anteriormente para implementar la regresión lineal en Python, logrando así que el modelo “aprenda” los parámetros w y b.\n",
        "Para ello inicializamos de forma aleatoria dichos parámetros:"
      ]
    },
    {
      "cell_type": "code",
      "execution_count": null,
      "metadata": {
        "id": "5TpGcr3f6DVp",
        "outputId": "ddc112b4-aef5-4dc1-ec02-ecaa1d659e26"
      },
      "outputs": [
        {
          "data": {
            "text/plain": [
              "(-0.4167578474054706, -0.056266827226329474)"
            ]
          },
          "execution_count": 46,
          "metadata": {},
          "output_type": "execute_result"
        }
      ],
      "source": [
        "np.random.seed(2)\n",
        "w = np.random.randn(1)[0] # inicializo w con un valor aleatorio\n",
        "#w = np.random.randn(1)\n",
        "b = np.random.randn(1)[0] # inicializo b con un valor aleatorio\n",
        "w, b"
      ]
    },
    {
      "cell_type": "markdown",
      "metadata": {
        "id": "iZwGTpS56DVq"
      },
      "source": [
        "donde \"np.random.seed(2)\" se usa para poder replicar los resultados incluso si el algoritmo se ejecuta en diferentes computadores.\n",
        "\n",
        "Posteriormente definimos los parámetros α (tasa de aprendizaje) y el número de iteraciones.  Teniendo en cuenta que se tienen tan solo 29 datos, la tasa de aprendizaje es relativamente pequeña (0.0004) para garantizar la convergencia del algoritmo; lo anterior implica que se requerirá un número de iteraciones relativamente alto (40000 en este caso):"
      ]
    },
    {
      "cell_type": "code",
      "execution_count": null,
      "metadata": {
        "id": "Ihx4Qw8S6DVz"
      },
      "outputs": [],
      "source": [
        "alpha = 0.0004\n",
        "#alpha = 0.04\n",
        "#nits = 5000\n",
        "nits = 40000"
      ]
    },
    {
      "cell_type": "markdown",
      "metadata": {
        "id": "TNeH0ooK6DV1"
      },
      "source": [
        "Para aprender los parámetros w y b se llevan a cabo los siguientes pasos dentro de cada iteración:\n",
        "* Actualizar los parámetros usando la función gradiente_descendente\n",
        "* Calcular la regresión lineal usando la función calcular_modelo\n",
        "* Actualizar el valor del ECM usando la función \"calcular_error\"\n",
        "* Imprimir los resultados en pantalla\n",
        "\n",
        "Por tanto, el código completo para esta Regresión Lineal en Python es el siguiente:"
      ]
    },
    {
      "cell_type": "code",
      "execution_count": null,
      "metadata": {
        "scrolled": false,
        "id": "HIlfTVSZ6DV2",
        "outputId": "c57296fa-0476-4ebf-a3f4-62ac475058b9"
      },
      "outputs": [
        {
          "name": "stdout",
          "output_type": "stream",
          "text": [
            "Epoch 1000\n",
            "    w: 2.7  b: 7.7\n",
            "    error: [909.68047113]\n",
            "=======================================\n",
            "Epoch 2000\n",
            "    w: 2.6  b: 14.8\n",
            "    error: [784.20129437]\n",
            "=======================================\n",
            "Epoch 3000\n",
            "    w: 2.5  b: 21.3\n",
            "    error: [677.81786006]\n",
            "=======================================\n",
            "Epoch 4000\n",
            "    w: 2.3  b: 27.3\n",
            "    error: [587.62412923]\n",
            "=======================================\n",
            "Epoch 5000\n",
            "    w: 2.2  b: 32.8\n",
            "    error: [511.15631133]\n",
            "=======================================\n",
            "Epoch 6000\n",
            "    w: 2.1  b: 37.9\n",
            "    error: [446.32556178]\n",
            "=======================================\n",
            "Epoch 7000\n",
            "    w: 2.0  b: 42.6\n",
            "    error: [391.36092172]\n",
            "=======================================\n",
            "Epoch 8000\n",
            "    w: 1.9  b: 46.9\n",
            "    error: [344.76094135]\n",
            "=======================================\n",
            "Epoch 9000\n",
            "    w: 1.9  b: 50.9\n",
            "    error: [305.25266532]\n",
            "=======================================\n",
            "Epoch 10000\n",
            "    w: 1.8  b: 54.6\n",
            "    error: [271.75685992]\n",
            "=======================================\n",
            "Epoch 11000\n",
            "    w: 1.7  b: 57.9\n",
            "    error: [243.35853196]\n",
            "=======================================\n",
            "Epoch 12000\n",
            "    w: 1.7  b: 61.0\n",
            "    error: [219.28193427]\n",
            "=======================================\n",
            "Epoch 13000\n",
            "    w: 1.6  b: 63.9\n",
            "    error: [198.86937488]\n",
            "=======================================\n",
            "Epoch 14000\n",
            "    w: 1.6  b: 66.5\n",
            "    error: [181.56325105]\n",
            "=======================================\n",
            "Epoch 15000\n",
            "    w: 1.5  b: 68.9\n",
            "    error: [166.89081746]\n",
            "=======================================\n",
            "Epoch 16000\n",
            "    w: 1.5  b: 71.2\n",
            "    error: [154.4512724]\n",
            "=======================================\n",
            "Epoch 17000\n",
            "    w: 1.4  b: 73.2\n",
            "    error: [143.90480915]\n",
            "=======================================\n",
            "Epoch 18000\n",
            "    w: 1.4  b: 75.1\n",
            "    error: [134.96333369]\n",
            "=======================================\n",
            "Epoch 19000\n",
            "    w: 1.4  b: 76.8\n",
            "    error: [127.38259487]\n",
            "=======================================\n",
            "Epoch 20000\n",
            "    w: 1.3  b: 78.5\n",
            "    error: [120.95551229]\n",
            "=======================================\n",
            "Epoch 21000\n",
            "    w: 1.3  b: 79.9\n",
            "    error: [115.5065196]\n",
            "=======================================\n",
            "Epoch 22000\n",
            "    w: 1.3  b: 81.3\n",
            "    error: [110.88676857]\n",
            "=======================================\n",
            "Epoch 23000\n",
            "    w: 1.2  b: 82.5\n",
            "    error: [106.97006308]\n",
            "=======================================\n",
            "Epoch 24000\n",
            "    w: 1.2  b: 83.7\n",
            "    error: [103.64941186]\n",
            "=======================================\n",
            "Epoch 25000\n",
            "    w: 1.2  b: 84.8\n",
            "    error: [100.83410585]\n",
            "=======================================\n",
            "Epoch 26000\n",
            "    w: 1.2  b: 85.7\n",
            "    error: [98.44724032]\n",
            "=======================================\n",
            "Epoch 27000\n",
            "    w: 1.2  b: 86.6\n",
            "    error: [96.4236141]\n",
            "=======================================\n",
            "Epoch 28000\n",
            "    w: 1.1  b: 87.5\n",
            "    error: [94.70794849]\n",
            "=======================================\n",
            "Epoch 29000\n",
            "    w: 1.1  b: 88.2\n",
            "    error: [93.25337728]\n",
            "=======================================\n",
            "Epoch 30000\n",
            "    w: 1.1  b: 88.9\n",
            "    error: [92.02016643]\n",
            "=======================================\n",
            "Epoch 31000\n",
            "    w: 1.1  b: 89.6\n",
            "    error: [90.97462877]\n",
            "=======================================\n",
            "Epoch 32000\n",
            "    w: 1.1  b: 90.2\n",
            "    error: [90.08820371]\n",
            "=======================================\n",
            "Epoch 33000\n",
            "    w: 1.1  b: 90.7\n",
            "    error: [89.33667709]\n",
            "=======================================\n",
            "Epoch 34000\n",
            "    w: 1.1  b: 91.2\n",
            "    error: [88.69951971]\n",
            "=======================================\n",
            "Epoch 35000\n",
            "    w: 1.1  b: 91.7\n",
            "    error: [88.15932657]\n",
            "=======================================\n",
            "Epoch 36000\n",
            "    w: 1.0  b: 92.1\n",
            "    error: [87.70134141]\n",
            "=======================================\n",
            "Epoch 37000\n",
            "    w: 1.0  b: 92.5\n",
            "    error: [87.3130536]\n",
            "=======================================\n",
            "Epoch 38000\n",
            "    w: 1.0  b: 92.9\n",
            "    error: [86.98385643]\n",
            "=======================================\n",
            "Epoch 39000\n",
            "    w: 1.0  b: 93.2\n",
            "    error: [86.70475732]\n",
            "=======================================\n",
            "Epoch 40000\n",
            "    w: 1.0  b: 93.5\n",
            "    error: [86.46813223]\n",
            "=======================================\n"
          ]
        }
      ],
      "source": [
        "error = np.zeros((nits,1))\n",
        "for i in range(nits):\n",
        "    # Actualizar valor de los pesos usando el gradiente descendente\n",
        "    [w, b] = gradiente_descendente(w,b,alpha,x,y)\n",
        "\n",
        "    # Calcular el valor de la predicción\n",
        "    y_ = calcular_modelo(w,b,x)\n",
        "\n",
        "    # Actualizar el valor del error\n",
        "    error[i] = calcular_error(y,y_)\n",
        "\n",
        "    # Imprimir resultados cada 1000 epochs\n",
        "    if (i+1)%1000 == 0:\n",
        "        print(\"Epoch {}\".format(i+1))\n",
        "        print(\"    w: {:.1f}\".format(w), \" b: {:.1f}\".format(b))\n",
        "        print(\"    error: {}\".format(error[i]))\n",
        "        print(\"=======================================\")"
      ]
    },
    {
      "cell_type": "markdown",
      "metadata": {
        "id": "rOBmTGgd6DV3"
      },
      "source": [
        "### 5 Resultados"
      ]
    },
    {
      "cell_type": "markdown",
      "metadata": {
        "id": "qEFxN4fn6DV4"
      },
      "source": [
        "En primer lugar, obtengamos la gráfica del ECM vs. las iteraciones:"
      ]
    },
    {
      "cell_type": "code",
      "execution_count": null,
      "metadata": {
        "scrolled": false,
        "id": "QcEWqn_z6DV4",
        "outputId": "f2858486-47a6-4875-e5ea-d76f0f10898b"
      },
      "outputs": [
        {
          "data": {
            "image/png": "[encoded data removed]",
            "text/plain": [
              "<Figure size 640x480 with 1 Axes>"
            ]
          },
          "metadata": {},
          "output_type": "display_data"
        }
      ],
      "source": [
        "plt.plot(range(nits),error)\n",
        "plt.xlabel('epoch')\n",
        "plt.ylabel('ECM')\n",
        "plt.show()"
      ]
    },
    {
      "cell_type": "markdown",
      "metadata": {
        "id": "0h4ZEkaB6DV5"
      },
      "source": [
        "Al observar la figura de abajo podemos confirmar que la pérdida (ECM) disminuye a medida que el número de iteraciones se incrementa:"
      ]
    },
    {
      "cell_type": "markdown",
      "metadata": {
        "id": "Y7PcV_A86DV6"
      },
      "source": [
        "Ahora veamos el resultado de la Regresión Lineal y cómo después del entrenamiento obtenemos una línea recta que se ajusta bastante bien a los datos reales:"
      ]
    },
    {
      "cell_type": "code",
      "execution_count": null,
      "metadata": {
        "id": "ZMk5L3aF6DV6",
        "outputId": "ee0e45af-b2a5-4568-a326-e1ee8e105d8c"
      },
      "outputs": [
        {
          "data": {
            "image/png": "[encoded data removed]",
            "text/plain": [
              "<Figure size 640x480 with 1 Axes>"
            ]
          },
          "metadata": {},
          "output_type": "display_data"
        }
      ],
      "source": [
        "y_regr = calcular_modelo(w,b,x)\n",
        "plt.scatter(x,y)\n",
        "plt.plot(x,y_regr,'r')\n",
        "plt.xlabel('x')\n",
        "plt.ylabel('y')\n",
        "plt.show()"
      ]
    },
    {
      "cell_type": "markdown",
      "metadata": {
        "id": "AXSAtbDi6DV7"
      },
      "source": [
        "El resultado de la Regresión Lineal (línea de color rojo) permite evidenciar que ésta se ajusta bastante bien a los datos originales (puntos azules), lo cual permite verificar que el algoritmo de Regresión Lineal en Python funciona adecuadamente.\n",
        "\n",
        "Por último, veamos cómo calcular una predicción a partir del modelo ya entrenado."
      ]
    },
    {
      "cell_type": "markdown",
      "metadata": {
        "id": "RH1ph7m46DV8"
      },
      "source": [
        "### 6 Predicción"
      ]
    },
    {
      "cell_type": "markdown",
      "metadata": {
        "id": "bK2Q0loT6DV_"
      },
      "source": [
        "Para finalizar, podemos realizar una predicción teniendo el modelo ya entrenado.\n",
        "\n",
        "Si, por ejemplo, queremos conocer el nivel de presión sanguínea que tendrá una persona de 62 años, simplemente ejecutamos las siguientes líneas de código:"
      ]
    },
    {
      "cell_type": "code",
      "execution_count": null,
      "metadata": {
        "id": "OUHBlQD16DWA",
        "outputId": "8362d27f-a841-435f-d129-9f9817a1cf57"
      },
      "outputs": [
        {
          "name": "stdout",
          "output_type": "stream",
          "text": [
            "A los 62  años se tendrá una presión sanguínea de 156.8\n"
          ]
        }
      ],
      "source": [
        "edad = 62\n",
        "presion = calcular_modelo(w,b,edad)\n",
        "print(\"A los {}\".format(edad), \" años se tendrá una presión sanguínea de {:.1f}\".format(presion))"
      ]
    },
    {
      "cell_type": "markdown",
      "metadata": {
        "id": "mHLOczri6DWB"
      },
      "source": [
        "### Ejercicios\n",
        "* Modificar nits (poner nits= 10000). Ver como se modifica la gráfica de ECM. ¿Es necesario colocar un valor en nits =40000, un valor tan grande?\n",
        "* Viendo la gráfica de ECM con nits = 40000 ¿Qué podemos decir del modelo, es bueno o malo?\n",
        "* Calcular el error con la raíz cuadrada del error cuadrático medio, volver a realizar el gráfico de ECM ¿es bueno o malo el modelo?. A los fines de este ejercicio no modificar el cálculo de la derivada para el gradiente descendiente."
      ]
    },
    {
      "cell_type": "code",
      "execution_count": null,
      "metadata": {
        "id": "LDcwKyCp6DWC"
      },
      "outputs": [],
      "source": []
    },
    {
      "cell_type": "code",
      "execution_count": null,
      "metadata": {
        "id": "aXXfzYt-6DWD"
      },
      "outputs": [],
      "source": []
    }
  ],
  "metadata": {
    "kernelspec": {
      "display_name": "Python 3 (ipykernel)",
      "language": "python",
      "name": "python3"
    },
    "language_info": {
      "codemirror_mode": {
        "name": "ipython",
        "version": 3
      },
      "file_extension": ".py",
      "mimetype": "text/x-python",
      "name": "python",
      "nbconvert_exporter": "python",
      "pygments_lexer": "ipython3",
      "version": "3.11.4"
    },
    "colab": {
      "provenance": []
    }
  },
  "nbformat": 4,
  "nbformat_minor": 0
}
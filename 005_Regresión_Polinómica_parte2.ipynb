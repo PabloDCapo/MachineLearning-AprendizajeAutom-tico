{
  "cells": [
    {
      "cell_type": "markdown",
      "metadata": {
        "id": "R7AJDHYp7kzS"
      },
      "source": [
        "# Regresión Polinómica con scikit-learn\n",
        "La implementación de la regresión polinomial con scikit-learn es muy similar a la regresión lineal. Solo hay un paso adicional: debe transformar la matriz de entradas para incluir términos no lineales como 𝑥².\n",
        "### 1. Importar paquetes y clases\n",
        "Además de **numpy** y **sklearn.linear_model.LinearRegression**, también debe importar la clase **PolynomialFeaturesde sklearn.preprocessing**:"
      ]
    },
    {
      "cell_type": "code",
      "execution_count": null,
      "metadata": {
        "id": "n8VQbp4D7kzY"
      },
      "outputs": [],
      "source": [
        "import numpy as np\n",
        "from sklearn.linear_model import LinearRegression\n",
        "from sklearn.preprocessing import PolynomialFeatures"
      ]
    },
    {
      "cell_type": "markdown",
      "metadata": {
        "id": "M7QhXpbY7kza"
      },
      "source": [
        "### 2. Proporcionar datos"
      ]
    },
    {
      "cell_type": "code",
      "execution_count": null,
      "metadata": {
        "id": "7dK87s067kzb"
      },
      "outputs": [],
      "source": [
        "x = np.array([5, 15, 25, 35, 45, 55]).reshape((-1, 1))\n",
        "y = np.array([28, 11, 2, 9, 29, 30])"
      ]
    },
    {
      "cell_type": "markdown",
      "metadata": {
        "id": "MMmaggt77kzc"
      },
      "source": [
        "Veamos la distribución de los datos:"
      ]
    },
    {
      "cell_type": "code",
      "execution_count": null,
      "metadata": {
        "scrolled": false,
        "id": "-gJcYXGd7kzh",
        "outputId": "41880fb9-6247-4bd4-b040-1b7eff41c749"
      },
      "outputs": [
        {
          "data": {
            "image/png": "[encoded data removed]",
            "text/plain": [
              "<Figure size 640x480 with 1 Axes>"
            ]
          },
          "metadata": {},
          "output_type": "display_data"
        }
      ],
      "source": [
        "import matplotlib.pyplot as plt\n",
        "%matplotlib inline\n",
        "\n",
        "plt.plot(x, y, \"b.\")  # círculos azules\n",
        "plt.xlabel(\"x\")\n",
        "plt.ylabel(\"y\")\n",
        "plt.show()"
      ]
    },
    {
      "cell_type": "markdown",
      "metadata": {
        "id": "wzAqPL0u7kzj"
      },
      "source": [
        "### 3. Transformar datos de entrada\n",
        "Ahora hagamos un polinomio de grado = 3.\n",
        "\n",
        "Creamos una instancia de esta clase indicando el grado de polinomio que deseamos:"
      ]
    },
    {
      "cell_type": "code",
      "execution_count": null,
      "metadata": {
        "id": "z_ndiTfF7kzj"
      },
      "outputs": [],
      "source": [
        "transformer = PolynomialFeatures(degree=3, include_bias=False)"
      ]
    },
    {
      "cell_type": "code",
      "execution_count": null,
      "metadata": {
        "scrolled": false,
        "id": "N4HJ8Jyf7kzo",
        "outputId": "8a0c49b2-4aeb-4417-f7ab-b2c80bfd0c27"
      },
      "outputs": [
        {
          "data": {
            "text/html": [
              "<style>#sk-container-id-1 {color: black;background-color: white;}#sk-container-id-1 pre{padding: 0;}#sk-container-id-1 div.sk-toggleable {background-color: white;}#sk-container-id-1 label.sk-toggleable__label {cursor: pointer;display: block;width: 100%;margin-bottom: 0;padding: 0.3em;box-sizing: border-box;text-align: center;}#sk-container-id-1 label.sk-toggleable__label-arrow:before {content: \"▸\";float: left;margin-right: 0.25em;color: #696969;}#sk-container-id-1 label.sk-toggleable__label-arrow:hover:before {color: black;}#sk-container-id-1 div.sk-estimator:hover label.sk-toggleable__label-arrow:before {color: black;}#sk-container-id-1 div.sk-toggleable__content {max-height: 0;max-width: 0;overflow: hidden;text-align: left;background-color: #f0f8ff;}#sk-container-id-1 div.sk-toggleable__content pre {margin: 0.2em;color: black;border-radius: 0.25em;background-color: #f0f8ff;}#sk-container-id-1 input.sk-toggleable__control:checked~div.sk-toggleable__content {max-height: 200px;max-width: 100%;overflow: auto;}#sk-container-id-1 input.sk-toggleable__control:checked~label.sk-toggleable__label-arrow:before {content: \"▾\";}#sk-container-id-1 div.sk-estimator input.sk-toggleable__control:checked~label.sk-toggleable__label {background-color: #d4ebff;}#sk-container-id-1 div.sk-label input.sk-toggleable__control:checked~label.sk-toggleable__label {background-color: #d4ebff;}#sk-container-id-1 input.sk-hidden--visually {border: 0;clip: rect(1px 1px 1px 1px);clip: rect(1px, 1px, 1px, 1px);height: 1px;margin: -1px;overflow: hidden;padding: 0;position: absolute;width: 1px;}#sk-container-id-1 div.sk-estimator {font-family: monospace;background-color: #f0f8ff;border: 1px dotted black;border-radius: 0.25em;box-sizing: border-box;margin-bottom: 0.5em;}#sk-container-id-1 div.sk-estimator:hover {background-color: #d4ebff;}#sk-container-id-1 div.sk-parallel-item::after {content: \"\";width: 100%;border-bottom: 1px solid gray;flex-grow: 1;}#sk-container-id-1 div.sk-label:hover label.sk-toggleable__label {background-color: #d4ebff;}#sk-container-id-1 div.sk-serial::before {content: \"\";position: absolute;border-left: 1px solid gray;box-sizing: border-box;top: 0;bottom: 0;left: 50%;z-index: 0;}#sk-container-id-1 div.sk-serial {display: flex;flex-direction: column;align-items: center;background-color: white;padding-right: 0.2em;padding-left: 0.2em;position: relative;}#sk-container-id-1 div.sk-item {position: relative;z-index: 1;}#sk-container-id-1 div.sk-parallel {display: flex;align-items: stretch;justify-content: center;background-color: white;position: relative;}#sk-container-id-1 div.sk-item::before, #sk-container-id-1 div.sk-parallel-item::before {content: \"\";position: absolute;border-left: 1px solid gray;box-sizing: border-box;top: 0;bottom: 0;left: 50%;z-index: -1;}#sk-container-id-1 div.sk-parallel-item {display: flex;flex-direction: column;z-index: 1;position: relative;background-color: white;}#sk-container-id-1 div.sk-parallel-item:first-child::after {align-self: flex-end;width: 50%;}#sk-container-id-1 div.sk-parallel-item:last-child::after {align-self: flex-start;width: 50%;}#sk-container-id-1 div.sk-parallel-item:only-child::after {width: 0;}#sk-container-id-1 div.sk-dashed-wrapped {border: 1px dashed gray;margin: 0 0.4em 0.5em 0.4em;box-sizing: border-box;padding-bottom: 0.4em;background-color: white;}#sk-container-id-1 div.sk-label label {font-family: monospace;font-weight: bold;display: inline-block;line-height: 1.2em;}#sk-container-id-1 div.sk-label-container {text-align: center;}#sk-container-id-1 div.sk-container {/* jupyter's `normalize.less` sets `[hidden] { display: none; }` but bootstrap.min.css set `[hidden] { display: none !important; }` so we also need the `!important` here to be able to override the default hidden behavior on the sphinx rendered scikit-learn.org. See: https://github.com/scikit-learn/scikit-learn/issues/21755 */display: inline-block !important;position: relative;}#sk-container-id-1 div.sk-text-repr-fallback {display: none;}</style><div id=\"sk-container-id-1\" class=\"sk-top-container\"><div class=\"sk-text-repr-fallback\"><pre>PolynomialFeatures(degree=3, include_bias=False)</pre><b>In a Jupyter environment, please rerun this cell to show the HTML representation or trust the notebook. <br />On GitHub, the HTML representation is unable to render, please try loading this page with nbviewer.org.</b></div><div class=\"sk-container\" hidden><div class=\"sk-item\"><div class=\"sk-estimator sk-toggleable\"><input class=\"sk-toggleable__control sk-hidden--visually\" id=\"sk-estimator-id-1\" type=\"checkbox\" checked><label for=\"sk-estimator-id-1\" class=\"sk-toggleable__label sk-toggleable__label-arrow\">PolynomialFeatures</label><div class=\"sk-toggleable__content\"><pre>PolynomialFeatures(degree=3, include_bias=False)</pre></div></div></div></div></div>"
            ],
            "text/plain": [
              "PolynomialFeatures(degree=3, include_bias=False)"
            ]
          },
          "execution_count": 5,
          "metadata": {},
          "output_type": "execute_result"
        }
      ],
      "source": [
        "transformer.fit(x)"
      ]
    },
    {
      "cell_type": "markdown",
      "metadata": {
        "id": "ehQbDtTy7kzp"
      },
      "source": [
        "Una vez aplicado la función **fit()**, podemos crear una nueva matriz de entrada modificada aplicando la función **transform()**:"
      ]
    },
    {
      "cell_type": "code",
      "execution_count": null,
      "metadata": {
        "id": "vo2HKIET7kzq"
      },
      "outputs": [],
      "source": [
        "x_ = transformer.transform(x)"
      ]
    },
    {
      "cell_type": "code",
      "execution_count": null,
      "metadata": {
        "scrolled": true,
        "id": "1uUlvoRR7kzr",
        "outputId": "20e2a626-e918-4919-d7cf-b659bdc2fe43"
      },
      "outputs": [
        {
          "data": {
            "text/plain": [
              "array([[5.00000e+00, 2.50000e+01, 1.25000e+02],\n",
              "       [1.50000e+01, 2.25000e+02, 3.37500e+03],\n",
              "       [2.50000e+01, 6.25000e+02, 1.56250e+04],\n",
              "       [3.50000e+01, 1.22500e+03, 4.28750e+04],\n",
              "       [4.50000e+01, 2.02500e+03, 9.11250e+04],\n",
              "       [5.50000e+01, 3.02500e+03, 1.66375e+05]])"
            ]
          },
          "execution_count": 7,
          "metadata": {},
          "output_type": "execute_result"
        }
      ],
      "source": [
        "x_"
      ]
    },
    {
      "cell_type": "markdown",
      "metadata": {
        "id": "_CxjwvCD7kzs"
      },
      "source": [
        "### 3. Crear un modelo y entrenarlo"
      ]
    },
    {
      "cell_type": "code",
      "execution_count": null,
      "metadata": {
        "id": "xAo8rhkV7kzs"
      },
      "outputs": [],
      "source": [
        "model = LinearRegression().fit(x_, y)"
      ]
    },
    {
      "cell_type": "markdown",
      "metadata": {
        "id": "XfjVDODH7kzw"
      },
      "source": [
        "El modelo de regresión ahora está creado y entrenado. Está listo para hacwer predicciones. Se debe tener en cuenta que el primer argumento de **fit()** es la matriz de entrada modificada **x_** y no la original **x**.\n",
        "\n",
        "Podemos calcular los coeficientes w1, w2, w3 y b"
      ]
    },
    {
      "cell_type": "code",
      "execution_count": null,
      "metadata": {
        "id": "PByfAs7h7kzx",
        "outputId": "23f81d1a-a7c8-4bad-c286-6732aa9a3859"
      },
      "outputs": [
        {
          "name": "stdout",
          "output_type": "stream",
          "text": [
            "coefficients: [-4.93095238e+00  1.56785714e-01 -1.33333333e-03]\n"
          ]
        }
      ],
      "source": [
        "print(f\"coefficients: {model.coef_}\")"
      ]
    },
    {
      "cell_type": "code",
      "execution_count": null,
      "metadata": {
        "id": "rfaPlGhp7kzy",
        "outputId": "276d9bba-83f9-48d5-b66a-4f9ccb5fb953"
      },
      "outputs": [
        {
          "name": "stdout",
          "output_type": "stream",
          "text": [
            "intercept: 50.25892857143397\n"
          ]
        }
      ],
      "source": [
        "print(f\"intercept: {model.intercept_}\")"
      ]
    },
    {
      "cell_type": "markdown",
      "metadata": {
        "id": "KeKxN4t77kzz"
      },
      "source": [
        "### 4. Calcular 𝑅²"
      ]
    },
    {
      "cell_type": "code",
      "execution_count": null,
      "metadata": {
        "id": "Hxyk7UTw7kz0",
        "outputId": "b7f5c534-2df6-45bc-d4f3-606d935dcbf5"
      },
      "outputs": [
        {
          "name": "stdout",
          "output_type": "stream",
          "text": [
            "coefficient of determination: 0.9221817028698267\n"
          ]
        }
      ],
      "source": [
        "r_sq = model.score(x_, y)\n",
        "print(f\"coefficient of determination: {r_sq}\")"
      ]
    },
    {
      "cell_type": "markdown",
      "metadata": {
        "id": "F5UN3CK47kz1"
      },
      "source": [
        "Compare este resultado con el conseguido en el Notebook con un polinomio de grado 2.\n",
        "\n",
        "Ejercicio: Hacer una nueva corrida para obtener un modelo con un polinomio de grado 4\n",
        "## Underfitting y Overfitting\n",
        "Una pregunta muy importante que puede surgir al implementar la regresión polinomial está relacionada con la elección del grado óptimo de la función de regresión polinomial.\n",
        "\n",
        "No hay una regla sencilla para hacer esto, depende del caso. Sin embargo, debe tener en cuenta dos problemas que pueden surgir a raíz de esta elección.\n",
        "\n",
        "### Underfitting\n",
        "Esto ucurre cuando un modelo no puede capturar con precisión las dependencias entre los datos, generalmente como consecuencia de su propia simplicidad. A menudo produce un 𝑅² bajo con datos conocidos y mala capacidad de generalización cuando se aplica con datos nuevos.\n",
        "\n",
        "### Overfitting\n",
        "Esto ocurre cuando un modelo aprende tanto las dependencias de datos como las fluctuaciones aleatorias. En otras palabras, un modelo aprende demasiado bien los datos existentes. Los modelos complejos, que tienen muchas características o términos, a menudo son propensos a sobreajustarse. Cuando se aplican a datos conocidos, estos modelos suelen arrojar un 𝑅² alto. Sin embargo, a menudo no generalizan bien y tienen 𝑅² significativamente más bajo cuando se usan con datos nuevos.\n",
        "\n",
        "La siguiente figura ilustra los modelos ajustados insuficientemente, bien ajustados y sobreajustados:"
      ]
    },
    {
      "cell_type": "markdown",
      "metadata": {
        "id": "fFCJvMli7kz5"
      },
      "source": [
        "![poly-reg.webp](attachment:poly-reg.webp)"
      ]
    },
    {
      "cell_type": "markdown",
      "metadata": {
        "id": "yC4kElnj7kz6"
      },
      "source": [
        "* La gráfica superior izquierda muestra una línea de regresión lineal que tiene un 𝑅² bajo. También podría ser importante que una línea recta no pueda tener en cuenta el hecho de que la respuesta real aumente a medida que 𝑥 se aleja de veinticinco y se acerca a cero. Este es probablemente un ejemplo de desajuste.\n",
        "\n",
        "* La gráfica superior derecha ilustra la regresión polinomial con el grado igual a dos. En este caso, este podría ser el grado óptimo para modelar estos datos. El modelo tiene un valor de 𝑅² que es satisfactorio en muchos casos y muestra bien las tendencias.\n",
        "\n",
        "* El gráfico inferior izquierdo presenta una regresión polinomial con el grado igual a tres. El valor de 𝑅² es mayor que en los casos anteriores. Este modelo se comporta mejor con datos conocidos que los anteriores. Sin embargo, **muestra algunos signos de sobreajuste, especialmente para los valores de entrada cercanos a sesenta, donde la línea comienza a disminuir, aunque los datos reales no muestran eso**.\n",
        "\n",
        "* Finalmente, en el gráfico de abajo a la derecha, puedes ver el ajuste perfecto: seis puntos y la recta polinomial de grado cinco (o mayor) dan 𝑅² = 1. Cada respuesta real es igual a su predicción correspondiente.\n",
        "\n",
        "En algunas situaciones, esto podría ser exactamente lo que está buscando. En muchos casos, sin embargo, se trata de un modelo sobreajustado. **Es probable que tenga un comportamiento deficiente con datos no vistos, especialmente con entradas superiores a cincuenta. Por ejemplo, asume, sin ninguna evidencia, que hay una caída significativa en las respuestas para 𝑥 mayor que cincuenta y que 𝑦 llega a cero para 𝑥 cerca de sesenta**. Tal comportamiento es la consecuencia de un esfuerzo excesivo para aprender y ajustar los datos existentes.\n",
        "\n",
        "Ver ejemplo publicado en https://towardsdatascience.com/machine-learning-polynomial-regression-with-python-5328e4e8a386                        \n",
        "Datasets del ejemplo: **position_salaries.csv**"
      ]
    },
    {
      "cell_type": "code",
      "execution_count": null,
      "metadata": {
        "id": "1R75I6TU7kz6"
      },
      "outputs": [],
      "source": []
    },
    {
      "cell_type": "code",
      "execution_count": null,
      "metadata": {
        "id": "asfiffji7kz7"
      },
      "outputs": [],
      "source": []
    }
  ],
  "metadata": {
    "kernelspec": {
      "display_name": "Python 3 (ipykernel)",
      "language": "python",
      "name": "python3"
    },
    "language_info": {
      "codemirror_mode": {
        "name": "ipython",
        "version": 3
      },
      "file_extension": ".py",
      "mimetype": "text/x-python",
      "name": "python",
      "nbconvert_exporter": "python",
      "pygments_lexer": "ipython3",
      "version": "3.11.4"
    },
    "colab": {
      "provenance": []
    }
  },
  "nbformat": 4,
  "nbformat_minor": 0
}
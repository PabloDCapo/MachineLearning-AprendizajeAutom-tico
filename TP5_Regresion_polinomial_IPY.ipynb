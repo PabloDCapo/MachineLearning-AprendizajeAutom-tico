{
  "cells": [
    {
      "cell_type": "markdown",
      "source": [
        "Grupo 4 Integrantes (Nombre/Legajo): Salerno Camila (2393), Vega Sebastian (2352), Capo Pablo (2377), Farinazzo Analía (2365)"
      ],
      "metadata": {
        "id": "pMpfzOlLGmP5"
      }
    },
    {
      "cell_type": "markdown",
      "metadata": {
        "id": "NclSysArF2HR"
      },
      "source": [
        "# Regresión Polinomial con  y sin Escalado  de los Predictores\n",
        "## 1. Introducción\n",
        "En este notebook, analizaremos el comportamiento de la Regresión Polinomial con y sin escalando las variables Predictoras. Aplicaremos 4 escalados distintos disponibles en la biblioteca Sklearn:\n",
        "* StandardScaler\n",
        "* MinMaxScaler\n",
        "* RobustScaler\n",
        "* MaxAbsScaler\n",
        "\n",
        "Los datos que se utilizarán que se presentan en la siguiente gráfica y para generarlos se usará la siguiente fórmula en el intervalo [-5, 5]:"
      ]
    },
    {
      "cell_type": "markdown",
      "metadata": {
        "id": "rOydmmYQF2HV"
      },
      "source": [
        "![ArbolRegresi%C3%B3n_datos.PNG](attachment:ArbolRegresi%C3%B3n_datos.PNG)"
      ]
    },
    {
      "cell_type": "markdown",
      "metadata": {
        "id": "IVAvHEqZF2HV"
      },
      "source": [
        "## 2. Regresión Polinomial con scikit-learn\n",
        "La implementación de la regresión polinomial con scikit-learn es muy similar a la regresión lineal. Solo hay un paso adicional: debe transformar la matriz de entradas para incluir términos no lineales como 𝑥².\n",
        "### 2.1. Importar paquetes y clases\n",
        "Además de **numpy** y **sklearn.linear_model.LinearRegression**, también debe importar la clase **PolynomialFeaturesde sklearn.preprocessing**:"
      ]
    },
    {
      "cell_type": "code",
      "execution_count": null,
      "metadata": {
        "id": "QUf_GGV0F2HW"
      },
      "outputs": [],
      "source": [
        "# importamos las librerías que necesitamos\n",
        "import numpy as np\n",
        "from sklearn.linear_model import LinearRegression, SGDRegressor\n",
        "from sklearn.preprocessing import PolynomialFeatures, MinMaxScaler, StandardScaler\n",
        "from sklearn.model_selection import train_test_split\n",
        "import matplotlib.pyplot as plt\n",
        "np.random.seed(42) # para hacer el código reproducible"
      ]
    },
    {
      "cell_type": "code",
      "execution_count": null,
      "metadata": {
        "id": "_6DBUPnLF2HX"
      },
      "outputs": [],
      "source": [
        "#función y = 0.1x^2 + 0.2(Ruido Gaussiano)\n",
        "def f(x):\n",
        "    y = 0.1*np.square(x) + 0.6*np.random.randn(x.size)\n",
        "    return y"
      ]
    },
    {
      "cell_type": "code",
      "execution_count": null,
      "metadata": {
        "id": "12U8UcMFF2HY"
      },
      "outputs": [],
      "source": [
        "# Generamos los datos x, y con la función f(x)\n",
        "x = np.arange(-5,5,0.1) # x = [-5, -4.9, -4.8, ... 4.8, 4.9, 5]\n",
        "y = f(x)"
      ]
    },
    {
      "cell_type": "code",
      "execution_count": null,
      "metadata": {
        "scrolled": false,
        "id": "hwf99uK5F2HY",
        "outputId": "5d63a51c-b03b-4c92-d926-a15909a18383",
        "colab": {
          "base_uri": "https://localhost:8080/",
          "height": 467
        }
      },
      "outputs": [
        {
          "output_type": "execute_result",
          "data": {
            "text/plain": [
              "<Axes: >"
            ]
          },
          "metadata": {},
          "execution_count": 4
        },
        {
          "output_type": "display_data",
          "data": {
            "text/plain": [
              "<Figure size 800x500 with 1 Axes>"
            ],
            "image/png": "[encoded data removed]"
          },
          "metadata": {}
        }
      ],
      "source": [
        "import matplotlib.pyplot as plt\n",
        "import seaborn as sns\n",
        "sns.set()\n",
        "fig, ax = plt.subplots(figsize = (8, 5))\n",
        "sns.scatterplot(x=x, y=y)"
      ]
    },
    {
      "cell_type": "markdown",
      "metadata": {
        "id": "eVAUdnsAF2HZ"
      },
      "source": [
        "### 2.2. Regresión Polinomial"
      ]
    },
    {
      "cell_type": "code",
      "execution_count": null,
      "metadata": {
        "id": "EwxbhtEEF2HZ"
      },
      "outputs": [],
      "source": [
        "# Creamos una instancia de esta clase indicando el grado de polinomio que deseamos:\n",
        "transformer = PolynomialFeatures(degree=2, include_bias=False)"
      ]
    },
    {
      "cell_type": "markdown",
      "source": [
        "Arrancamos trabajando sin escalados."
      ],
      "metadata": {
        "id": "1kLvevR4HyKH"
      }
    },
    {
      "cell_type": "code",
      "execution_count": null,
      "metadata": {
        "id": "6DcFzCwcF2HZ"
      },
      "outputs": [],
      "source": [
        "X_poly = transformer.fit_transform(x.reshape(-1, 1))"
      ]
    },
    {
      "cell_type": "markdown",
      "metadata": {
        "id": "TGlXQwuxF2Ha"
      },
      "source": [
        "### 2.3. Dividimos el conjunto de datos en entrenamiento y prueba:\n",
        "test_size=0.33, random_state=0"
      ]
    },
    {
      "cell_type": "code",
      "source": [
        "# Dividimos el conjunto de datos en entrenamiento y prueba\n",
        "test_size = 0.33\n",
        "random_state = 0\n",
        "X_train, X_test, y_train, y_test = train_test_split(X_poly, y, test_size=test_size, random_state=random_state)"
      ],
      "metadata": {
        "id": "szg_eDG8-9Ty"
      },
      "execution_count": null,
      "outputs": []
    },
    {
      "cell_type": "markdown",
      "metadata": {
        "id": "gYREfYN_F2Ha"
      },
      "source": [
        "### 2.4. Crear un modelo y entrenarlo"
      ]
    },
    {
      "cell_type": "code",
      "execution_count": null,
      "metadata": {
        "id": "ri573CpnF2Ha"
      },
      "outputs": [],
      "source": [
        "model = LinearRegression().fit(X_train, y_train)"
      ]
    },
    {
      "cell_type": "code",
      "execution_count": null,
      "metadata": {
        "id": "FC2dwcRUF2Hb",
        "outputId": "f17ce0aa-0894-43a8-f359-522c738310ae",
        "colab": {
          "base_uri": "https://localhost:8080/"
        }
      },
      "outputs": [
        {
          "output_type": "stream",
          "name": "stdout",
          "text": [
            "coefficient of determination: 0.6389843322057135\n"
          ]
        }
      ],
      "source": [
        "r_sq = model.score(X_test, y_test)\n",
        "print(f\"coefficient of determination: {r_sq}\")"
      ]
    },
    {
      "cell_type": "code",
      "execution_count": null,
      "metadata": {
        "id": "aqfvR0M3F2Hb",
        "colab": {
          "base_uri": "https://localhost:8080/",
          "height": 458
        },
        "outputId": "d6269dce-b4e0-4223-da81-6c80874a8f51"
      },
      "outputs": [
        {
          "output_type": "display_data",
          "data": {
            "text/plain": [
              "<Figure size 640x480 with 1 Axes>"
            ],
            "image/png": "[encoded data removed]"
          },
          "metadata": {}
        }
      ],
      "source": [
        "# Representación gráfica de la función hipótesis generada\n",
        "x1 = np.arange(-5,5,0.1)\n",
        "y1 = model.coef_[1]*x1.reshape(-1, 1)**2 + model.coef_[0]*x1.reshape(-1, 1) + model.intercept_\n",
        "\n",
        "plt.plot(x1, y1, \"g-\")  # estilo de linea solida verde\n",
        "#plt.plot(df['X'], df['Y'], \"b.\")\n",
        "plt.plot(x, y, \"b.\")  # círculos azules\n",
        "plt.xlabel(\"x\")\n",
        "plt.ylabel(\"y\")\n",
        "plt.show()"
      ]
    },
    {
      "cell_type": "markdown",
      "metadata": {
        "id": "9p8nxCMTF2Hb"
      },
      "source": [
        "### 2.5. Regresión Polinomial aplicando MinMaxScaler a todo los predictores Pre Procesados"
      ]
    },
    {
      "cell_type": "code",
      "execution_count": null,
      "metadata": {
        "id": "13LVI0AdF2Hb"
      },
      "outputs": [],
      "source": [
        "# Escalar los datos con MinMaxScaler\n",
        "scaler_minmax = MinMaxScaler()\n",
        "X_scaler = scaler_minmax.fit_transform(X_poly)"
      ]
    },
    {
      "cell_type": "code",
      "execution_count": null,
      "metadata": {
        "id": "gPohyhA3F2Hb",
        "colab": {
          "base_uri": "https://localhost:8080/"
        },
        "outputId": "cd22bf7d-e1c8-4c01-ae34-05f763611186"
      },
      "outputs": [
        {
          "output_type": "execute_result",
          "data": {
            "text/plain": [
              "0.6389843322057136"
            ]
          },
          "metadata": {},
          "execution_count": 14
        }
      ],
      "source": [
        "# Dividir los datos en entrenamiento y prueba\n",
        "X_train1, X_test1, y_train1, y_test1 = train_test_split(X_scaler, y, test_size=0.33, random_state=0)\n",
        "\n",
        "# Crear y entrenar el modelo de regresión lineal\n",
        "model2 = LinearRegression().fit(X_train1, y_train1)\n",
        "\n",
        "# Calcular el coeficiente de determinación (r_sq)\n",
        "r_sq_minMax = model2.score(X_test1, y_test1)\n",
        "\n",
        "r_sq_minMax"
      ]
    },
    {
      "cell_type": "markdown",
      "metadata": {
        "id": "olyFYPYIF2Hc"
      },
      "source": [
        "### 2.6. Regresión Polinomial aplicando StandardScaler a todo los predictores Pre Procesados"
      ]
    },
    {
      "cell_type": "code",
      "execution_count": null,
      "metadata": {
        "id": "hrtSPxhHF2Hc"
      },
      "outputs": [],
      "source": [
        "scaler_standard = StandardScaler()\n",
        "X_standard = scaler_standard.fit_transform(X_poly)"
      ]
    },
    {
      "cell_type": "code",
      "execution_count": null,
      "metadata": {
        "id": "23IfDlOAF2Hc",
        "colab": {
          "base_uri": "https://localhost:8080/"
        },
        "outputId": "4112efd9-3cbd-4f86-bf2f-b9b64544db8c"
      },
      "outputs": [
        {
          "output_type": "stream",
          "name": "stdout",
          "text": [
            "0.6389843322057135\n",
            "0.6230416032942983\n"
          ]
        }
      ],
      "source": [
        "# Dividir los datos en entrenamiento y prueba\n",
        "X_train2, X_test2, y_train2, y_test2 = train_test_split(X_standard, y, test_size=0.33, random_state=0)\n",
        "\n",
        "# Crear y entrenar el modelo de regresión lineal\n",
        "model3 = LinearRegression().fit(X_train2, y_train2)\n",
        "\n",
        "### mmmmm\n",
        "model4 = SGDRegressor().fit(X_train2, y_train2)\n",
        "\n",
        "# Calcular el coeficiente de determinación (r_sq_)\n",
        "r_sq_standard = model3.score(X_test2, y_test2)\n",
        "r_sq_sgd = model4.score(X_test2, y_test2)\n",
        "\n",
        "print(r_sq_standard)\n",
        "print(r_sq_sgd)"
      ]
    },
    {
      "cell_type": "markdown",
      "metadata": {
        "id": "ISKHjAkbF2Hc"
      },
      "source": [
        "**Conclusiones**:\n",
        "* Al calcular el coeficiente de determinación en los modelos de regresión polinominal, tanto habiendo aplicado diferentes escaladores, como no, se puede verificar que esta métrica, apenas sufrió modificaciones.  Esto, nos hace pensar que la escala de las características no afecta directamente la relación entre las variables en un modelo de regresión polinomial.\n",
        "Este coeficiente de determinación (R^2) mide la proporción de la variación de la variable dependiente que es explicada por la variación de las variables independientes en el modelo. Entonces, entendemos que al aplicar diferentes escaladores a las características, se modifica la escala de las variables, pero la relación subyacente entre las variables no cambia significativamente lo que explicaría por qué el valor de R^2 apenas se ve afectado en los distintos modelos escalados.\n"
      ]
    }
  ],
  "metadata": {
    "kernelspec": {
      "display_name": "Python 3 (ipykernel)",
      "language": "python",
      "name": "python3"
    },
    "language_info": {
      "codemirror_mode": {
        "name": "ipython",
        "version": 3
      },
      "file_extension": ".py",
      "mimetype": "text/x-python",
      "name": "python",
      "nbconvert_exporter": "python",
      "pygments_lexer": "ipython3",
      "version": "3.9.16"
    },
    "colab": {
      "provenance": []
    }
  },
  "nbformat": 4,
  "nbformat_minor": 0
}
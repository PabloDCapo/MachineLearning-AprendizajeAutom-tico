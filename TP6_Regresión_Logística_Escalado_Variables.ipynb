{
  "cells": [
    {
      "cell_type": "markdown",
      "metadata": {
        "id": "Rwvap-zAz30t"
      },
      "source": [
        "# Regresión Logística con o sin Escalado\n",
        "El objetivo de este Notebook es analizar el impacto de Escalar o no, los predictores en un problema de Clasificación.  \n",
        "Pasos a seguir:\n",
        "* Analizar el Datasets e indicar si el problema de una Regresión o Clasificación.\n",
        "* Columnas:\n",
        "  * Loan_ID: ID_préstamo\n",
        "  * Gender: Género\n",
        "  * Married: Casado\n",
        "  * Dependents: Familiares Dependientes\n",
        "  * Education: Educación\n",
        "  * Self_Employed: Trabajadores por cuenta propia\n",
        "  * ApplicantIncome: Ingresos del solicitante\n",
        "  * CoapplicantIncome: CosolicitanteIngresos\n",
        "  * LoanAmount: Monto del préstamo\n",
        "  * Loan_Amount_Term: Plazo_monto_préstamo\n",
        "  * Credit_History Property_Area  \n",
        "* Plantear una Regresión Logística sin escalando los datos.\n",
        "* Plantear una Regresión Logística escalando los datos.\n",
        "* Analizar resultados.  \n",
        "## 1. Cargamos el Datasets"
      ]
    },
    {
      "cell_type": "code",
      "execution_count": null,
      "metadata": {
        "scrolled": false,
        "colab": {
          "base_uri": "https://localhost:8080/"
        },
        "id": "f3Nk3FFtz30z",
        "outputId": "f936d5b5-70af-4868-f186-59bbcf535ba6"
      },
      "outputs": [
        {
          "output_type": "stream",
          "name": "stdout",
          "text": [
            "Drive already mounted at /content/drive/; to attempt to forcibly remount, call drive.mount(\"/content/drive/\", force_remount=True).\n",
            "    Loan_ID Gender Married Dependents Education Self_Employed  \\\n",
            "0  LP001032   Male      No          0  Graduate            No   \n",
            "1  LP001824   Male     Yes          1  Graduate            No   \n",
            "2  LP002928   Male     Yes          0  Graduate            No   \n",
            "3  LP001814   Male     Yes          2  Graduate            No   \n",
            "4  LP002244   Male     Yes          0  Graduate            No   \n",
            "\n",
            "   ApplicantIncome  CoapplicantIncome  LoanAmount  Loan_Amount_Term  \\\n",
            "0             4950                0.0         125               360   \n",
            "1             2882             1843.0         123               480   \n",
            "2             3000             3416.0          56               180   \n",
            "3             9703                0.0         112               360   \n",
            "4             2333             2417.0         136               360   \n",
            "\n",
            "   Credit_History Property_Area  \n",
            "0               1         Urban  \n",
            "1               1     Semiurban  \n",
            "2               1     Semiurban  \n",
            "3               1         Urban  \n",
            "4               1         Urban  \n"
          ]
        }
      ],
      "source": [
        "# Conectar Drive a Colab\n",
        "from google.colab import drive\n",
        "import os\n",
        "\n",
        "import pandas as pd\n",
        "from sklearn.metrics import accuracy_score\n",
        "\n",
        "# Montar drive\n",
        "drive.mount(\"/content/drive/\")\n",
        "# Cambiar directorio\n",
        "os.chdir('/content/drive/MyDrive/Ciencia de datos - Grupo 4/TP6')\n",
        "\n",
        "X_train=pd.read_csv('X_train.csv')\n",
        "y_train=pd.read_csv('Y_train.csv')\n",
        "X_test=pd.read_csv('X_test.csv')\n",
        "y_test=pd.read_csv('Y_test.csv')\n",
        "\n",
        "print(X_train.head())"
      ]
    },
    {
      "cell_type": "code",
      "execution_count": null,
      "metadata": {
        "scrolled": true,
        "colab": {
          "base_uri": "https://localhost:8080/"
        },
        "id": "t8J3tMMRz301",
        "outputId": "04f8a178-f3ad-4ba5-c9fd-d8c52ecdad63"
      },
      "outputs": [
        {
          "output_type": "stream",
          "name": "stdout",
          "text": [
            "<class 'pandas.core.frame.DataFrame'>\n",
            "RangeIndex: 384 entries, 0 to 383\n",
            "Data columns (total 12 columns):\n",
            " #   Column             Non-Null Count  Dtype  \n",
            "---  ------             --------------  -----  \n",
            " 0   Loan_ID            384 non-null    object \n",
            " 1   Gender             384 non-null    object \n",
            " 2   Married            384 non-null    object \n",
            " 3   Dependents         384 non-null    object \n",
            " 4   Education          384 non-null    object \n",
            " 5   Self_Employed      384 non-null    object \n",
            " 6   ApplicantIncome    384 non-null    int64  \n",
            " 7   CoapplicantIncome  384 non-null    float64\n",
            " 8   LoanAmount         384 non-null    int64  \n",
            " 9   Loan_Amount_Term   384 non-null    int64  \n",
            " 10  Credit_History     384 non-null    int64  \n",
            " 11  Property_Area      384 non-null    object \n",
            "dtypes: float64(1), int64(4), object(7)\n",
            "memory usage: 36.1+ KB\n"
          ]
        }
      ],
      "source": [
        "# Veamos que tipo de predictores tenemos\n",
        "X_train.info()"
      ]
    },
    {
      "cell_type": "code",
      "execution_count": null,
      "metadata": {
        "id": "8gJvo36BF20T",
        "outputId": "c4066c92-1f76-4765-bc55-e0d93c8678b6",
        "colab": {
          "base_uri": "https://localhost:8080/"
        }
      },
      "outputs": [
        {
          "output_type": "stream",
          "name": "stdout",
          "text": [
            "---- Longitudes ----\n",
            "X_train:  96\n",
            "Y_train:  384\n",
            "X_test :  96\n",
            "Y_test :  96\n"
          ]
        }
      ],
      "source": [
        "print(\"---- Longitudes ----\")\n",
        "print(\"X_train: \", len(X_test))\n",
        "print(\"Y_train: \", len(y_train))\n",
        "print(\"X_test : \", len(X_test))\n",
        "print(\"Y_test : \", len(y_test))"
      ]
    },
    {
      "cell_type": "markdown",
      "metadata": {
        "id": "6TaTf6T2z302"
      },
      "source": [
        "## 2. Regresión Logística"
      ]
    },
    {
      "cell_type": "code",
      "execution_count": null,
      "metadata": {
        "id": "pJ2EWDcNz303"
      },
      "outputs": [],
      "source": [
        "from sklearn.linear_model import LogisticRegression\n",
        "reg = LogisticRegression()"
      ]
    },
    {
      "cell_type": "markdown",
      "metadata": {
        "id": "erUGFHdxz303"
      },
      "source": [
        "Averiguar:\n",
        "* ¿Qué métodos podemos usar que poder ver los hiperparámetros?\n",
        "* ¿que significan los hiperparámetros **max_iter**, **solver**?"
      ]
    },
    {
      "cell_type": "code",
      "execution_count": null,
      "metadata": {
        "colab": {
          "base_uri": "https://localhost:8080/"
        },
        "id": "KhaW6q9Ez304",
        "outputId": "89df9435-2d6d-46d4-d363-36cb13d1b8d2"
      },
      "outputs": [
        {
          "output_type": "stream",
          "name": "stdout",
          "text": [
            "Hiperparámetros del modelo de regresión logística:\n"
          ]
        },
        {
          "output_type": "execute_result",
          "data": {
            "text/plain": [
              "{'C': 1.0,\n",
              " 'class_weight': None,\n",
              " 'dual': False,\n",
              " 'fit_intercept': True,\n",
              " 'intercept_scaling': 1,\n",
              " 'l1_ratio': None,\n",
              " 'max_iter': 100,\n",
              " 'multi_class': 'auto',\n",
              " 'n_jobs': None,\n",
              " 'penalty': 'l2',\n",
              " 'random_state': None,\n",
              " 'solver': 'lbfgs',\n",
              " 'tol': 0.0001,\n",
              " 'verbose': 0,\n",
              " 'warm_start': False}"
            ]
          },
          "metadata": {},
          "execution_count": 25
        }
      ],
      "source": [
        "print(\"Hiperparámetros del modelo de regresión logística:\")\n",
        "reg.get_params()"
      ]
    },
    {
      "cell_type": "markdown",
      "source": [
        "##max_iter:\n",
        "Es el número máximo de iteraciones que el algoritmo de optimización utilizará para converger.\n",
        "Si el modelo no converge antes de alcanzar este número de iteraciones, se detendrá y lanzará una advertencia. Por defecto, max_iter está\n",
        "establecido en 100."
      ],
      "metadata": {
        "id": "mDvT0Zak3Q9v"
      }
    },
    {
      "cell_type": "markdown",
      "metadata": {
        "id": "-5TIOeYAG2CH"
      },
      "source": [
        "***SOLVER***\n",
        "\n",
        "Es el algoritmo que el modelo utilizará para optimizar los pesos durante el entrenamiento. Algunos de los valores posibles para solver son:\n",
        "\n",
        "\n",
        "**liblinear**: Un algoritmo de optimización eficiente para problemas lineales. Es apropiado para conjuntos de datos pequeños y medianos.\n",
        "\n",
        "\n",
        "**lbfgs**: Un método de optimización que aproxima la función objetivo utilizando técnicas de gradiente. Es adecuado para conjuntos de datos grandes.\n",
        "\n",
        "\n",
        "**newton-cg**: Un método de optimización basado en la optimización de Newton, que utiliza la matriz Hessiana de la función objetivo. Es adecuado\n",
        "para conjuntos de datos grandes."
      ]
    },
    {
      "cell_type": "code",
      "source": [
        "reg_logis = reg.fit(X_train, y_train)"
      ],
      "metadata": {
        "colab": {
          "base_uri": "https://localhost:8080/",
          "height": 321
        },
        "id": "y5HkdrqWIEa3",
        "outputId": "55e07903-575b-4820-c591-d13497ffa3de"
      },
      "execution_count": null,
      "outputs": [
        {
          "output_type": "error",
          "ename": "ValueError",
          "evalue": "could not convert string to float: 'LP001032'",
          "traceback": [
            "\u001b[0;31m---------------------------------------------------------------------------\u001b[0m",
            "\u001b[0;31mValueError\u001b[0m                                Traceback (most recent call last)",
            "\u001b[0;32m<ipython-input-26-1d25d7be762a>\u001b[0m in \u001b[0;36m<cell line: 1>\u001b[0;34m()\u001b[0m\n\u001b[0;32m----> 1\u001b[0;31m \u001b[0mreg_logis\u001b[0m \u001b[0;34m=\u001b[0m \u001b[0mreg\u001b[0m\u001b[0;34m.\u001b[0m\u001b[0mfit\u001b[0m\u001b[0;34m(\u001b[0m\u001b[0mX_train\u001b[0m\u001b[0;34m,\u001b[0m \u001b[0my_train\u001b[0m\u001b[0;34m)\u001b[0m\u001b[0;34m\u001b[0m\u001b[0;34m\u001b[0m\u001b[0m\n\u001b[0m",
            "\u001b[0;32m/usr/local/lib/python3.10/dist-packages/sklearn/linear_model/_logistic.py\u001b[0m in \u001b[0;36mfit\u001b[0;34m(self, X, y, sample_weight)\u001b[0m\n\u001b[1;32m   1194\u001b[0m             \u001b[0m_dtype\u001b[0m \u001b[0;34m=\u001b[0m \u001b[0;34m[\u001b[0m\u001b[0mnp\u001b[0m\u001b[0;34m.\u001b[0m\u001b[0mfloat64\u001b[0m\u001b[0;34m,\u001b[0m \u001b[0mnp\u001b[0m\u001b[0;34m.\u001b[0m\u001b[0mfloat32\u001b[0m\u001b[0;34m]\u001b[0m\u001b[0;34m\u001b[0m\u001b[0;34m\u001b[0m\u001b[0m\n\u001b[1;32m   1195\u001b[0m \u001b[0;34m\u001b[0m\u001b[0m\n\u001b[0;32m-> 1196\u001b[0;31m         X, y = self._validate_data(\n\u001b[0m\u001b[1;32m   1197\u001b[0m             \u001b[0mX\u001b[0m\u001b[0;34m,\u001b[0m\u001b[0;34m\u001b[0m\u001b[0;34m\u001b[0m\u001b[0m\n\u001b[1;32m   1198\u001b[0m             \u001b[0my\u001b[0m\u001b[0;34m,\u001b[0m\u001b[0;34m\u001b[0m\u001b[0;34m\u001b[0m\u001b[0m\n",
            "\u001b[0;32m/usr/local/lib/python3.10/dist-packages/sklearn/base.py\u001b[0m in \u001b[0;36m_validate_data\u001b[0;34m(self, X, y, reset, validate_separately, **check_params)\u001b[0m\n\u001b[1;32m    582\u001b[0m                 \u001b[0my\u001b[0m \u001b[0;34m=\u001b[0m \u001b[0mcheck_array\u001b[0m\u001b[0;34m(\u001b[0m\u001b[0my\u001b[0m\u001b[0;34m,\u001b[0m \u001b[0minput_name\u001b[0m\u001b[0;34m=\u001b[0m\u001b[0;34m\"y\"\u001b[0m\u001b[0;34m,\u001b[0m \u001b[0;34m**\u001b[0m\u001b[0mcheck_y_params\u001b[0m\u001b[0;34m)\u001b[0m\u001b[0;34m\u001b[0m\u001b[0;34m\u001b[0m\u001b[0m\n\u001b[1;32m    583\u001b[0m             \u001b[0;32melse\u001b[0m\u001b[0;34m:\u001b[0m\u001b[0;34m\u001b[0m\u001b[0;34m\u001b[0m\u001b[0m\n\u001b[0;32m--> 584\u001b[0;31m                 \u001b[0mX\u001b[0m\u001b[0;34m,\u001b[0m \u001b[0my\u001b[0m \u001b[0;34m=\u001b[0m \u001b[0mcheck_X_y\u001b[0m\u001b[0;34m(\u001b[0m\u001b[0mX\u001b[0m\u001b[0;34m,\u001b[0m \u001b[0my\u001b[0m\u001b[0;34m,\u001b[0m \u001b[0;34m**\u001b[0m\u001b[0mcheck_params\u001b[0m\u001b[0;34m)\u001b[0m\u001b[0;34m\u001b[0m\u001b[0;34m\u001b[0m\u001b[0m\n\u001b[0m\u001b[1;32m    585\u001b[0m             \u001b[0mout\u001b[0m \u001b[0;34m=\u001b[0m \u001b[0mX\u001b[0m\u001b[0;34m,\u001b[0m \u001b[0my\u001b[0m\u001b[0;34m\u001b[0m\u001b[0;34m\u001b[0m\u001b[0m\n\u001b[1;32m    586\u001b[0m \u001b[0;34m\u001b[0m\u001b[0m\n",
            "\u001b[0;32m/usr/local/lib/python3.10/dist-packages/sklearn/utils/validation.py\u001b[0m in \u001b[0;36mcheck_X_y\u001b[0;34m(X, y, accept_sparse, accept_large_sparse, dtype, order, copy, force_all_finite, ensure_2d, allow_nd, multi_output, ensure_min_samples, ensure_min_features, y_numeric, estimator)\u001b[0m\n\u001b[1;32m   1104\u001b[0m         )\n\u001b[1;32m   1105\u001b[0m \u001b[0;34m\u001b[0m\u001b[0m\n\u001b[0;32m-> 1106\u001b[0;31m     X = check_array(\n\u001b[0m\u001b[1;32m   1107\u001b[0m         \u001b[0mX\u001b[0m\u001b[0;34m,\u001b[0m\u001b[0;34m\u001b[0m\u001b[0;34m\u001b[0m\u001b[0m\n\u001b[1;32m   1108\u001b[0m         \u001b[0maccept_sparse\u001b[0m\u001b[0;34m=\u001b[0m\u001b[0maccept_sparse\u001b[0m\u001b[0;34m,\u001b[0m\u001b[0;34m\u001b[0m\u001b[0;34m\u001b[0m\u001b[0m\n",
            "\u001b[0;32m/usr/local/lib/python3.10/dist-packages/sklearn/utils/validation.py\u001b[0m in \u001b[0;36mcheck_array\u001b[0;34m(array, accept_sparse, accept_large_sparse, dtype, order, copy, force_all_finite, ensure_2d, allow_nd, ensure_min_samples, ensure_min_features, estimator, input_name)\u001b[0m\n\u001b[1;32m    877\u001b[0m                     \u001b[0marray\u001b[0m \u001b[0;34m=\u001b[0m \u001b[0mxp\u001b[0m\u001b[0;34m.\u001b[0m\u001b[0mastype\u001b[0m\u001b[0;34m(\u001b[0m\u001b[0marray\u001b[0m\u001b[0;34m,\u001b[0m \u001b[0mdtype\u001b[0m\u001b[0;34m,\u001b[0m \u001b[0mcopy\u001b[0m\u001b[0;34m=\u001b[0m\u001b[0;32mFalse\u001b[0m\u001b[0;34m)\u001b[0m\u001b[0;34m\u001b[0m\u001b[0;34m\u001b[0m\u001b[0m\n\u001b[1;32m    878\u001b[0m                 \u001b[0;32melse\u001b[0m\u001b[0;34m:\u001b[0m\u001b[0;34m\u001b[0m\u001b[0;34m\u001b[0m\u001b[0m\n\u001b[0;32m--> 879\u001b[0;31m                     \u001b[0marray\u001b[0m \u001b[0;34m=\u001b[0m \u001b[0m_asarray_with_order\u001b[0m\u001b[0;34m(\u001b[0m\u001b[0marray\u001b[0m\u001b[0;34m,\u001b[0m \u001b[0morder\u001b[0m\u001b[0;34m=\u001b[0m\u001b[0morder\u001b[0m\u001b[0;34m,\u001b[0m \u001b[0mdtype\u001b[0m\u001b[0;34m=\u001b[0m\u001b[0mdtype\u001b[0m\u001b[0;34m,\u001b[0m \u001b[0mxp\u001b[0m\u001b[0;34m=\u001b[0m\u001b[0mxp\u001b[0m\u001b[0;34m)\u001b[0m\u001b[0;34m\u001b[0m\u001b[0;34m\u001b[0m\u001b[0m\n\u001b[0m\u001b[1;32m    880\u001b[0m             \u001b[0;32mexcept\u001b[0m \u001b[0mComplexWarning\u001b[0m \u001b[0;32mas\u001b[0m \u001b[0mcomplex_warning\u001b[0m\u001b[0;34m:\u001b[0m\u001b[0;34m\u001b[0m\u001b[0;34m\u001b[0m\u001b[0m\n\u001b[1;32m    881\u001b[0m                 raise ValueError(\n",
            "\u001b[0;32m/usr/local/lib/python3.10/dist-packages/sklearn/utils/_array_api.py\u001b[0m in \u001b[0;36m_asarray_with_order\u001b[0;34m(array, dtype, order, copy, xp)\u001b[0m\n\u001b[1;32m    183\u001b[0m     \u001b[0;32mif\u001b[0m \u001b[0mxp\u001b[0m\u001b[0;34m.\u001b[0m\u001b[0m__name__\u001b[0m \u001b[0;32min\u001b[0m \u001b[0;34m{\u001b[0m\u001b[0;34m\"numpy\"\u001b[0m\u001b[0;34m,\u001b[0m \u001b[0;34m\"numpy.array_api\"\u001b[0m\u001b[0;34m}\u001b[0m\u001b[0;34m:\u001b[0m\u001b[0;34m\u001b[0m\u001b[0;34m\u001b[0m\u001b[0m\n\u001b[1;32m    184\u001b[0m         \u001b[0;31m# Use NumPy API to support order\u001b[0m\u001b[0;34m\u001b[0m\u001b[0;34m\u001b[0m\u001b[0m\n\u001b[0;32m--> 185\u001b[0;31m         \u001b[0marray\u001b[0m \u001b[0;34m=\u001b[0m \u001b[0mnumpy\u001b[0m\u001b[0;34m.\u001b[0m\u001b[0masarray\u001b[0m\u001b[0;34m(\u001b[0m\u001b[0marray\u001b[0m\u001b[0;34m,\u001b[0m \u001b[0morder\u001b[0m\u001b[0;34m=\u001b[0m\u001b[0morder\u001b[0m\u001b[0;34m,\u001b[0m \u001b[0mdtype\u001b[0m\u001b[0;34m=\u001b[0m\u001b[0mdtype\u001b[0m\u001b[0;34m)\u001b[0m\u001b[0;34m\u001b[0m\u001b[0;34m\u001b[0m\u001b[0m\n\u001b[0m\u001b[1;32m    186\u001b[0m         \u001b[0;32mreturn\u001b[0m \u001b[0mxp\u001b[0m\u001b[0;34m.\u001b[0m\u001b[0masarray\u001b[0m\u001b[0;34m(\u001b[0m\u001b[0marray\u001b[0m\u001b[0;34m,\u001b[0m \u001b[0mcopy\u001b[0m\u001b[0;34m=\u001b[0m\u001b[0mcopy\u001b[0m\u001b[0;34m)\u001b[0m\u001b[0;34m\u001b[0m\u001b[0;34m\u001b[0m\u001b[0m\n\u001b[1;32m    187\u001b[0m     \u001b[0;32melse\u001b[0m\u001b[0;34m:\u001b[0m\u001b[0;34m\u001b[0m\u001b[0;34m\u001b[0m\u001b[0m\n",
            "\u001b[0;32m/usr/local/lib/python3.10/dist-packages/pandas/core/generic.py\u001b[0m in \u001b[0;36m__array__\u001b[0;34m(self, dtype)\u001b[0m\n\u001b[1;32m   1996\u001b[0m     \u001b[0;32mdef\u001b[0m \u001b[0m__array__\u001b[0m\u001b[0;34m(\u001b[0m\u001b[0mself\u001b[0m\u001b[0;34m,\u001b[0m \u001b[0mdtype\u001b[0m\u001b[0;34m:\u001b[0m \u001b[0mnpt\u001b[0m\u001b[0;34m.\u001b[0m\u001b[0mDTypeLike\u001b[0m \u001b[0;34m|\u001b[0m \u001b[0;32mNone\u001b[0m \u001b[0;34m=\u001b[0m \u001b[0;32mNone\u001b[0m\u001b[0;34m)\u001b[0m \u001b[0;34m->\u001b[0m \u001b[0mnp\u001b[0m\u001b[0;34m.\u001b[0m\u001b[0mndarray\u001b[0m\u001b[0;34m:\u001b[0m\u001b[0;34m\u001b[0m\u001b[0;34m\u001b[0m\u001b[0m\n\u001b[1;32m   1997\u001b[0m         \u001b[0mvalues\u001b[0m \u001b[0;34m=\u001b[0m \u001b[0mself\u001b[0m\u001b[0;34m.\u001b[0m\u001b[0m_values\u001b[0m\u001b[0;34m\u001b[0m\u001b[0;34m\u001b[0m\u001b[0m\n\u001b[0;32m-> 1998\u001b[0;31m         \u001b[0marr\u001b[0m \u001b[0;34m=\u001b[0m \u001b[0mnp\u001b[0m\u001b[0;34m.\u001b[0m\u001b[0masarray\u001b[0m\u001b[0;34m(\u001b[0m\u001b[0mvalues\u001b[0m\u001b[0;34m,\u001b[0m \u001b[0mdtype\u001b[0m\u001b[0;34m=\u001b[0m\u001b[0mdtype\u001b[0m\u001b[0;34m)\u001b[0m\u001b[0;34m\u001b[0m\u001b[0;34m\u001b[0m\u001b[0m\n\u001b[0m\u001b[1;32m   1999\u001b[0m         if (\n\u001b[1;32m   2000\u001b[0m             \u001b[0mastype_is_view\u001b[0m\u001b[0;34m(\u001b[0m\u001b[0mvalues\u001b[0m\u001b[0;34m.\u001b[0m\u001b[0mdtype\u001b[0m\u001b[0;34m,\u001b[0m \u001b[0marr\u001b[0m\u001b[0;34m.\u001b[0m\u001b[0mdtype\u001b[0m\u001b[0;34m)\u001b[0m\u001b[0;34m\u001b[0m\u001b[0;34m\u001b[0m\u001b[0m\n",
            "\u001b[0;31mValueError\u001b[0m: could not convert string to float: 'LP001032'"
          ]
        }
      ]
    },
    {
      "cell_type": "markdown",
      "source": [
        "***La regresion logistica no admite valores categoricos***\n",
        "\n",
        "Nos quedamos con los predictores numéricos"
      ],
      "metadata": {
        "id": "BvylRiCoIUku"
      }
    },
    {
      "cell_type": "code",
      "execution_count": null,
      "metadata": {
        "id": "jvlgjJrhz306"
      },
      "outputs": [],
      "source": [
        "# Solo nos quedamos con los predictores numéricos\n",
        "X_train = X_train[['ApplicantIncome', 'CoapplicantIncome','LoanAmount', 'Loan_Amount_Term', 'Credit_History']]\n",
        "X_test = X_test[['ApplicantIncome', 'CoapplicantIncome','LoanAmount', 'Loan_Amount_Term', 'Credit_History']]"
      ]
    },
    {
      "cell_type": "code",
      "source": [
        "X_train.info()"
      ],
      "metadata": {
        "colab": {
          "base_uri": "https://localhost:8080/"
        },
        "id": "SueoNDw_Iaby",
        "outputId": "ed7b42b8-3d56-4ed6-9ea3-28fd3ece5937"
      },
      "execution_count": null,
      "outputs": [
        {
          "output_type": "stream",
          "name": "stdout",
          "text": [
            "<class 'pandas.core.frame.DataFrame'>\n",
            "RangeIndex: 384 entries, 0 to 383\n",
            "Data columns (total 5 columns):\n",
            " #   Column             Non-Null Count  Dtype  \n",
            "---  ------             --------------  -----  \n",
            " 0   ApplicantIncome    384 non-null    int64  \n",
            " 1   CoapplicantIncome  384 non-null    float64\n",
            " 2   LoanAmount         384 non-null    int64  \n",
            " 3   Loan_Amount_Term   384 non-null    int64  \n",
            " 4   Credit_History     384 non-null    int64  \n",
            "dtypes: float64(1), int64(4)\n",
            "memory usage: 15.1 KB\n"
          ]
        }
      ]
    },
    {
      "cell_type": "code",
      "source": [
        "reg_logis = reg.fit(X_train, y_train)"
      ],
      "metadata": {
        "colab": {
          "base_uri": "https://localhost:8080/"
        },
        "id": "2BMlStrTIhi3",
        "outputId": "0e15f471-50e8-41f0-a026-e4c73b2f6f55"
      },
      "execution_count": null,
      "outputs": [
        {
          "output_type": "stream",
          "name": "stderr",
          "text": [
            "/usr/local/lib/python3.10/dist-packages/sklearn/utils/validation.py:1143: DataConversionWarning: A column-vector y was passed when a 1d array was expected. Please change the shape of y to (n_samples, ), for example using ravel().\n",
            "  y = column_or_1d(y, warn=True)\n"
          ]
        }
      ]
    },
    {
      "cell_type": "code",
      "source": [
        "print(\"--- Dimensiones ---\")\n",
        "print(\"X_train: \", X_train.shape)\n",
        "print(\"Y_train: \", y_train.shape)\n",
        "print(\"X_test  :\", X_test.shape)\n",
        "print(\"Y_test  :\", y_test.shape )"
      ],
      "metadata": {
        "colab": {
          "base_uri": "https://localhost:8080/"
        },
        "id": "k3IGLe1WI53l",
        "outputId": "786939e2-9114-45d2-9434-6c6c5609847c"
      },
      "execution_count": null,
      "outputs": [
        {
          "output_type": "stream",
          "name": "stdout",
          "text": [
            "--- Dimensiones ---\n",
            "X_train:  (384, 5)\n",
            "Y_train:  (384, 1)\n",
            "X_test  : (96, 5)\n",
            "Y_test  : (96, 1)\n"
          ]
        }
      ]
    },
    {
      "cell_type": "markdown",
      "source": [
        "***La función .fit necesita que X_train sea bidimensional y que y_train sea unidimensional***\n",
        "\n",
        "**Con la función .ravel() de numpy devuelve matriz unidimensional**"
      ],
      "metadata": {
        "id": "RCc5kJnrI9qK"
      }
    },
    {
      "cell_type": "code",
      "source": [
        "y_train_np = y_train.to_numpy().ravel()\n",
        "\n",
        "#Chequeamos\n",
        "print(y_train_np.shape)"
      ],
      "metadata": {
        "colab": {
          "base_uri": "https://localhost:8080/"
        },
        "id": "fjHB4U-FJQUN",
        "outputId": "ad07d048-7d60-4cf7-a349-83493d0cc045"
      },
      "execution_count": null,
      "outputs": [
        {
          "output_type": "stream",
          "name": "stdout",
          "text": [
            "(384,)\n"
          ]
        }
      ]
    },
    {
      "cell_type": "code",
      "source": [
        "reg_logis = reg.fit(X_train, y_train_np)"
      ],
      "metadata": {
        "id": "s0VJx47oJn39"
      },
      "execution_count": null,
      "outputs": []
    },
    {
      "cell_type": "code",
      "execution_count": null,
      "metadata": {
        "colab": {
          "base_uri": "https://localhost:8080/"
        },
        "id": "73a698Ggz307",
        "outputId": "ceede229-a5c8-4f01-dfa7-24fed5969b00"
      },
      "outputs": [
        {
          "output_type": "stream",
          "name": "stdout",
          "text": [
            "Sin Escalar:  0.75\n"
          ]
        }
      ],
      "source": [
        "from sklearn.metrics import accuracy_score\n",
        "y_test_np = y_test.to_numpy().ravel()\n",
        "print(\"Sin Escalar: \",accuracy_score(y_test_np,reg_logis.predict(X_test)))"
      ]
    },
    {
      "cell_type": "markdown",
      "metadata": {
        "id": "t7Q44_tXz307"
      },
      "source": [
        "¿Averiguar que tipo de métrica es la **accuracy_score**?"
      ]
    },
    {
      "cell_type": "markdown",
      "source": [
        "La métrica accuracy_score es una de las métricas más comunes utilizadas para evaluar la precisión de los modelos de clasificación, incluyendo modelos de regresión logística. Esta métrica calcula la proporción de predicciones correctas realizadas por el modelo sobre el total de predicciones realizadas. En términos simples, la accuracy_score mide cuántas de las clasificaciones realizadas por el modelo son correctas en relación con el total de clasificaciones efectuadas."
      ],
      "metadata": {
        "id": "T2geMoUm69yj"
      }
    },
    {
      "cell_type": "markdown",
      "metadata": {
        "id": "-5ZAlk49F20b"
      },
      "source": [
        "***Métrica que se utiliza para evaluar la precisión de un modelo de clasificación. Mide la proporción de predicciones correctas en comparación con el total de predicciones realizadas (calcula la presición de las predicciones)***"
      ]
    },
    {
      "cell_type": "markdown",
      "metadata": {
        "id": "WeXAdaSUz308"
      },
      "source": [
        "## 3. Regresión Logística aplicando MinMaxScaler a todo los predictores Pre Procesados\n",
        "Partimos los datos Pre Procesados (sin datos categóricos ni datos faltantes):"
      ]
    },
    {
      "cell_type": "code",
      "execution_count": null,
      "metadata": {
        "id": "Y6FBqMOcz308"
      },
      "outputs": [],
      "source": [
        "from sklearn.preprocessing import MinMaxScaler\n",
        "min_max=MinMaxScaler()\n",
        "X_train_minmax = min_max.fit_transform(X_train)\n",
        "X_test_minmax = min_max.transform(X_test)"
      ]
    },
    {
      "cell_type": "code",
      "execution_count": null,
      "metadata": {
        "id": "XA8ArW76F20c"
      },
      "outputs": [],
      "source": [
        "#Entrenamiento\n",
        "y_train_np_minmax=y_train.to_numpy().ravel()\n",
        "reg_logis_minmax = reg.fit(X_train_minmax, y_train_np_minmax)"
      ]
    },
    {
      "cell_type": "code",
      "execution_count": null,
      "metadata": {
        "colab": {
          "base_uri": "https://localhost:8080/"
        },
        "id": "9tnzP_zcz309",
        "outputId": "41269273-427d-4b42-b8e6-3c2113b15950"
      },
      "outputs": [
        {
          "output_type": "stream",
          "name": "stdout",
          "text": [
            "Escalando los datos con MinMaxScaler:  0.75\n"
          ]
        }
      ],
      "source": [
        "from sklearn.metrics import accuracy_score\n",
        "y_test_np_minmax = y_test.to_numpy().ravel()\n",
        "print(\"Escalando los datos con MinMaxScaler: \",accuracy_score(y_test,reg_logis_minmax.predict(X_test_minmax)))"
      ]
    },
    {
      "cell_type": "markdown",
      "metadata": {
        "id": "Iy7MDhBDz309"
      },
      "source": [
        "## 4. Regresión Logística aplicando StandarScaler a todo los predictores Pre Procesados\n",
        "Partimos los datos Pre Procesados (sin datos categóricos ni datos faltantes):"
      ]
    },
    {
      "cell_type": "code",
      "execution_count": null,
      "metadata": {
        "id": "l1ymEzu3z309"
      },
      "outputs": [],
      "source": [
        "from sklearn.preprocessing import StandardScaler\n",
        "std = StandardScaler()"
      ]
    },
    {
      "cell_type": "code",
      "execution_count": null,
      "metadata": {
        "id": "vQPwnzvKz30-"
      },
      "outputs": [],
      "source": [
        "X_train_standard = std.fit_transform(X_train)\n",
        "X_test_standard = std.transform(X_test)"
      ]
    },
    {
      "cell_type": "code",
      "execution_count": null,
      "metadata": {
        "id": "xn6NEoQKz30-"
      },
      "outputs": [],
      "source": [
        "y_train_np_standard=y_train.to_numpy().ravel()\n",
        "reg_logis_standard = reg.fit(X_train_standard, y_train_np_standard)"
      ]
    },
    {
      "cell_type": "code",
      "execution_count": null,
      "metadata": {
        "colab": {
          "base_uri": "https://localhost:8080/"
        },
        "id": "4r7k803fz30-",
        "outputId": "643739a9-2513-41b4-d306-23359cb9d217"
      },
      "outputs": [
        {
          "output_type": "stream",
          "name": "stdout",
          "text": [
            "Escalando los datos con StandarScaler:  0.75\n"
          ]
        }
      ],
      "source": [
        "from sklearn.metrics import accuracy_score\n",
        "y_test_np_standard = y_test.to_numpy().ravel()\n",
        "print(\"Escalando los datos con StandarScaler: \" ,accuracy_score(y_test_np_standard,reg_logis_standard.predict(X_test_standard)))"
      ]
    }
  ],
  "metadata": {
    "kernelspec": {
      "display_name": "Python 3 (ipykernel)",
      "language": "python",
      "name": "python3"
    },
    "language_info": {
      "codemirror_mode": {
        "name": "ipython",
        "version": 3
      },
      "file_extension": ".py",
      "mimetype": "text/x-python",
      "name": "python",
      "nbconvert_exporter": "python",
      "pygments_lexer": "ipython3",
      "version": "3.9.16"
    },
    "colab": {
      "provenance": []
    }
  },
  "nbformat": 4,
  "nbformat_minor": 0
}
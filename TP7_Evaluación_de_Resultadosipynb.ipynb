{
  "cells": [
    {
      "cell_type": "markdown",
      "id": "b2ceacbb",
      "metadata": {
        "id": "b2ceacbb"
      },
      "source": [
        "#Grupo 4 Integrantes (Nombre/Legajo): Salerno Camila (2393), Vega Sebastian (2352), Capo Pablo (2377), Farinazzo Analía (2365)\n",
        "#Ejercicios: Matriz de Confusión\n",
        "Suponga que tenemos un datasets que nos clasifica mail fraudulentos (clase 1) y no fraudulentos (clase 0). El datasets tiene 38 ejemplos de los cuales un mail es fraudulento y 37 no son fraudulentos pero nuestro modelo de clasificación nos predice que todos los mails son fraudulentos, es decir, los 38 mail son fraudulentos."
      ]
    },
    {
      "cell_type": "markdown",
      "id": "a337a093",
      "metadata": {
        "id": "a337a093"
      },
      "source": [
        "![Datasets38-3.JPG](attachment:Datasets38-3.JPG)"
      ]
    },
    {
      "cell_type": "markdown",
      "id": "747f2959",
      "metadata": {
        "id": "747f2959"
      },
      "source": [
        "Recordar que la librería Scikit-Learn arma la matriz de confusión ordenando las etiquetas de filas y columnas (False y True) por orden alfabético:"
      ]
    },
    {
      "cell_type": "markdown",
      "id": "f33265c4",
      "metadata": {
        "id": "f33265c4"
      },
      "source": [
        "![matrizconfusion2.JPG](attachment:matrizconfusion2.JPG)"
      ]
    },
    {
      "cell_type": "markdown",
      "id": "1b6617df",
      "metadata": {
        "id": "1b6617df"
      },
      "source": [
        "Se pide:\n",
        "1. Generar la matriz de confusión tal como la armaría la librería Scikit Learn.\n",
        "2. Calcular la Exactitud.\n",
        "3. Calcular la Precisión para la clase 1 y la clase 0\n",
        "3. Calcular el Recall para la clase 1 y clase 0\n",
        "5. Calcular F1-Score paea la clase 1 y la clase 0"
      ]
    },
    {
      "cell_type": "code",
      "execution_count": null,
      "id": "c09d7e90",
      "metadata": {
        "id": "c09d7e90"
      },
      "outputs": [],
      "source": [
        "# Ayuda\n",
        "y_real = [1, 0, 0, 0, 0, 0, 0, 0, 0, 0, 0, 0, 0, 0, 0, 0, 0, 0, 0, 0, 0, 0, 0, 0, 0, 0, 0, 0, 0, 0, 0, 0, 0, 0, 0, 0, 0, 0]\n",
        "y_pred = [1, 1, 1, 1, 1, 1, 1, 1, 1, 1, 1, 1, 1, 1, 1, 1, 1, 1, 1, 1, 1, 1, 1, 1, 1, 1, 1, 1, 1, 1, 1, 1, 1, 1, 1, 1, 1, 1]"
      ]
    },
    {
      "cell_type": "code",
      "execution_count": null,
      "id": "fcaccf2e",
      "metadata": {
        "id": "fcaccf2e",
        "outputId": "28cd96dd-6017-4b66-f695-c93a0a495327",
        "colab": {
          "base_uri": "https://localhost:8080/"
        }
      },
      "outputs": [
        {
          "output_type": "stream",
          "name": "stdout",
          "text": [
            "Matriz de Confusión:\n",
            "[[ 0 37]\n",
            " [ 0  1]]\n"
          ]
        }
      ],
      "source": [
        "from sklearn.metrics import confusion_matrix, accuracy_score, precision_score, recall_score, f1_score\n",
        "# Matriz de confusión\n",
        "matriz_confusion = confusion_matrix(y_real, y_pred)\n",
        "print(\"Matriz de Confusión:\")\n",
        "print(matriz_confusion)"
      ]
    },
    {
      "cell_type": "code",
      "execution_count": null,
      "id": "560eed51",
      "metadata": {
        "id": "560eed51",
        "outputId": "536b6fec-1284-4f05-a644-6831e7631b99",
        "colab": {
          "base_uri": "https://localhost:8080/"
        }
      },
      "outputs": [
        {
          "output_type": "stream",
          "name": "stdout",
          "text": [
            "Accuracy: 0.02631578947368421\n",
            "Precisión de la clase 0: 0.0\n"
          ]
        }
      ],
      "source": [
        "# Accuracy\n",
        "accuracy = accuracy_score(y_real, y_pred)\n",
        "print(\"Accuracy:\", accuracy)\n",
        "# Precisión de la clase 0\n",
        "###precision_0 = precision_score(y_real, y_pred, pos_label=0)\n",
        "precision_0 = precision_score(y_real, y_pred, pos_label=0, zero_division=0)\n",
        "print(\"Precisión de la clase 0:\", precision_0)"
      ]
    },
    {
      "cell_type": "code",
      "source": [
        "# Precisión de la clase 1\n",
        "###precision_1 = precision_score(y_real, y_pred, pos_label=1)\n",
        "precision_1 = precision_score(y_real, y_pred, pos_label=1, zero_division=0)\n",
        "print(\"Precisión de la clase 1:\", precision_1)"
      ],
      "metadata": {
        "id": "GFSNrDdd84ED",
        "outputId": "d536797c-8a84-48e1-884e-f64be74404f0",
        "colab": {
          "base_uri": "https://localhost:8080/"
        }
      },
      "id": "GFSNrDdd84ED",
      "execution_count": null,
      "outputs": [
        {
          "output_type": "stream",
          "name": "stdout",
          "text": [
            "Precisión de la clase 1: 0.02631578947368421\n"
          ]
        }
      ]
    },
    {
      "cell_type": "code",
      "source": [
        "# Recall de la clase 0\n",
        "recall_0 = recall_score(y_real, y_pred, pos_label=0, zero_division=0)\n",
        "print(\"Recall de la clase 0:\", recall_0)"
      ],
      "metadata": {
        "id": "ccDlrn7486L5",
        "outputId": "68b155e8-aff3-491c-f224-9fc74b94bbcf",
        "colab": {
          "base_uri": "https://localhost:8080/"
        }
      },
      "id": "ccDlrn7486L5",
      "execution_count": null,
      "outputs": [
        {
          "output_type": "stream",
          "name": "stdout",
          "text": [
            "Recall de la clase 0: 0.0\n"
          ]
        }
      ]
    },
    {
      "cell_type": "code",
      "source": [
        "# Recall de la clase 1\n",
        "recall_1 = recall_score(y_real, y_pred, pos_label=1, zero_division=0)\n",
        "print(\"Recall de la clase 1:\", recall_1)"
      ],
      "metadata": {
        "id": "PI1nFGYk9B8h",
        "outputId": "5e9148f5-ee67-43ab-daaa-418821e1984f",
        "colab": {
          "base_uri": "https://localhost:8080/"
        }
      },
      "id": "PI1nFGYk9B8h",
      "execution_count": null,
      "outputs": [
        {
          "output_type": "stream",
          "name": "stdout",
          "text": [
            "Recall de la clase 1: 1.0\n"
          ]
        }
      ]
    },
    {
      "cell_type": "code",
      "source": [
        "# F-score de la clase 0\n",
        "f1_score_0 = f1_score(y_real, y_pred, pos_label=0, zero_division=0)\n",
        "print(\"F-score de la clase 0:\", f1_score_0)"
      ],
      "metadata": {
        "id": "MZJC9qM69EEm",
        "outputId": "2e1ec1f7-9e1a-4290-8614-fd6b498b0961",
        "colab": {
          "base_uri": "https://localhost:8080/"
        }
      },
      "id": "MZJC9qM69EEm",
      "execution_count": null,
      "outputs": [
        {
          "output_type": "stream",
          "name": "stdout",
          "text": [
            "F-score de la clase 0: 0.0\n"
          ]
        }
      ]
    },
    {
      "cell_type": "code",
      "source": [
        "# F-score de la clase 1\n",
        "f1_score_1 = f1_score(y_real, y_pred, pos_label=1, zero_division=0)\n",
        "print(\"F-score de la clase 1:\", f1_score_1)"
      ],
      "metadata": {
        "id": "wmwmh2at9KQL",
        "outputId": "22571f8e-c291-4098-a49b-c5444e91fbbe",
        "colab": {
          "base_uri": "https://localhost:8080/"
        }
      },
      "id": "wmwmh2at9KQL",
      "execution_count": null,
      "outputs": [
        {
          "output_type": "stream",
          "name": "stdout",
          "text": [
            "F-score de la clase 1: 0.05128205128205127\n"
          ]
        }
      ]
    }
  ],
  "metadata": {
    "kernelspec": {
      "display_name": "Python 3 (ipykernel)",
      "language": "python",
      "name": "python3"
    },
    "language_info": {
      "codemirror_mode": {
        "name": "ipython",
        "version": 3
      },
      "file_extension": ".py",
      "mimetype": "text/x-python",
      "name": "python",
      "nbconvert_exporter": "python",
      "pygments_lexer": "ipython3",
      "version": "3.9.16"
    },
    "colab": {
      "provenance": [],
      "toc_visible": true
    }
  },
  "nbformat": 4,
  "nbformat_minor": 5
}
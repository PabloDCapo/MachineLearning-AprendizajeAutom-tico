{
  "cells": [
    {
      "cell_type": "markdown",
      "metadata": {
        "id": "Or3HXlG0L-YV"
      },
      "source": [
        "# TP N°1 Regresión Lineal y Polinómica\n",
        "* Dado el conjunto de datos, plantear una regresión lineal (grado 1) y analizar si ese modelo es el óptimo para los datos dados.\n",
        "* Luego plantear una regresión polinómica (defina el grado del polinomio que mejor se adpate a los datos)\n",
        "* Realice para todos los casos, el grafi simultáneo de los datos y el modelo generado.\n",
        "* Analizar resultados.  \n",
        "## 1. Conjunto de Datos"
      ]
    },
    {
      "cell_type": "code",
      "execution_count": null,
      "metadata": {
        "id": "vI54LfusL-Yt",
        "colab": {
          "base_uri": "https://localhost:8080/",
          "height": 452
        },
        "outputId": "f743ce51-237b-4184-e03d-4c4a591c6cea"
      },
      "outputs": [
        {
          "output_type": "display_data",
          "data": {
            "text/plain": [
              "<Figure size 640x480 with 1 Axes>"
            ],
            "image/png": "[encoded data removed]"
          },
          "metadata": {}
        }
      ],
      "source": [
        "import numpy as np #Librería numérica\n",
        "import matplotlib.pyplot as plt # Para crear gráficos con matplotlib\n",
        "%matplotlib inline\n",
        "# Si quieres hacer estos gráficos dentro de un jupyter notebook\n",
        "from sklearn.linear_model import LinearRegression #Regresión Lineal con scikit-learn\n",
        "\n",
        "def f(x):  # función f(x) = 0.1*x + 1.25 + 0.2*Ruido_Gaussiano\n",
        "    np.random.seed(42) # para poder reproducirlo\n",
        "    y = 0.1*x + 1.25 + 0.2*np.random.randn(x.shape[0])\n",
        "    return y\n",
        "\n",
        "x = np.arange(0, 20, 0.5) # generamos valores x de 0 a 20 en intervalos de 0.5\n",
        "y = f(x) # calculamos y a partir de la función que hemos generado\n",
        "\n",
        "# hacemos un gráfico de los datos que hemos generado\n",
        "plt.scatter(x,y,label='data', color='blue')\n",
        "plt.title('Datos');"
      ]
    },
    {
      "cell_type": "markdown",
      "metadata": {
        "id": "UOKjNUp7L-Y1"
      },
      "source": [
        "## 2. Regresión Lineal"
      ]
    },
    {
      "cell_type": "code",
      "execution_count": null,
      "metadata": {
        "id": "yKnIKJ_VL-Y3",
        "colab": {
          "base_uri": "https://localhost:8080/"
        },
        "outputId": "9ad4d849-badc-4b63-8149-dd7f6896f45c"
      },
      "outputs": [
        {
          "output_type": "execute_result",
          "data": {
            "text/plain": [
              "Ellipsis"
            ]
          },
          "metadata": {},
          "execution_count": 2
        }
      ],
      "source": [
        "# Importamos la clase de Regresión Lineal de scikit-learn\n",
        "from sklearn.linear_model import LinearRegression\n",
        "..."
      ]
    },
    {
      "cell_type": "code",
      "execution_count": null,
      "metadata": {
        "id": "5zxAlaNKL-Y5",
        "colab": {
          "base_uri": "https://localhost:8080/"
        },
        "outputId": "2c74aee4-fdcc-49d0-cb8a-2caa0202e7f7"
      },
      "outputs": [
        {
          "output_type": "stream",
          "name": "stdout",
          "text": [
            "w = [0.09183522]   b = 1.2858792525736682\n",
            "============================================================\n",
            "Error Cuadrático Medio (MSE) = 0.03318522012927899\n",
            "Raíz del Error Cuadrático Medio (RMSE) = 0.18216810952875093\n"
          ]
        }
      ],
      "source": [
        "from sklearn.metrics import mean_squared_error\n",
        "from sklearn.linear_model import LinearRegression\n",
        "\n",
        "modelo_regresion = LinearRegression()\n",
        "modelo_regresion.fit(x.reshape(-1, 1), y)\n",
        "\n",
        "# Predecimos los valores de y usando el modelo\n",
        "prediccion_y = modelo_regresion.predict(x.reshape(-1, 1))\n",
        "\n",
        "# Calculamos el MSE\n",
        "mse = mean_squared_error(y, prediccion_y)\n",
        "\n",
        "# Calculamos el RMSE\n",
        "rmse = np.sqrt(mse)\n",
        "\n",
        "\n",
        "\n",
        "print('w = '+str(modelo_regresion.coef_)+ '   b = '+str(modelo_regresion.intercept_))\n",
        "print(\"=\"*60)\n",
        "print('Error Cuadrático Medio (MSE) =', mse)\n",
        "print('Raíz del Error Cuadrático Medio (RMSE) =', rmse)"
      ]
    },
    {
      "cell_type": "markdown",
      "source": [],
      "metadata": {
        "id": "SairMUVlctQk"
      }
    },
    {
      "cell_type": "code",
      "execution_count": null,
      "metadata": {
        "id": "Ez_05G81L-Y6",
        "colab": {
          "base_uri": "https://localhost:8080/"
        },
        "outputId": "2009f29e-5145-4aa5-c448-88412bf4d549"
      },
      "outputs": [
        {
          "output_type": "stream",
          "name": "stdout",
          "text": [
            "Coeficiente de Determinación R2 = 0.8943593637683117\n"
          ]
        }
      ],
      "source": [
        "# calculamos el coeficiente de determinación R2\n",
        "r2 = modelo_regresion.score(x.reshape(-1,1), y)\n",
        "print('Coeficiente de Determinación R2 = ' + str(r2))"
      ]
    },
    {
      "cell_type": "markdown",
      "source": [
        "Tengo 3 valores de error el MSE, el RMSE y el R2, con valores distintos, pero como ¿para una función de error el modelo es mejor que para otra función de error?\n",
        "\n",
        "Indicar el valor de los parámetros calculados para el modelo.\n"
      ],
      "metadata": {
        "id": "ju1mSOZCni2w"
      }
    },
    {
      "cell_type": "markdown",
      "source": [
        "Entendiendo que el MSE y el RMSE son valores de variacions absolutos, mientras que el R2 está comprendido entre 0 y 1; compararlos como si fueran iguales sería un error.\n",
        "\n",
        "Como sabemos que los valores de x van de 0 a 20; consideramos los errores cuadráticos buenos valores.\n",
        "Al mismo tiempo, el R2 es un buen valor que no llega a calificarse como overfitting."
      ],
      "metadata": {
        "id": "p8R3P-dgnm7Z"
      }
    },
    {
      "cell_type": "code",
      "execution_count": null,
      "metadata": {
        "id": "Kf7OWDsBL-Y9",
        "colab": {
          "base_uri": "https://localhost:8080/",
          "height": 449
        },
        "outputId": "17d9bfeb-8a0c-47b9-8f6f-adc2c09bffad"
      },
      "outputs": [
        {
          "output_type": "display_data",
          "data": {
            "text/plain": [
              "<Figure size 640x480 with 1 Axes>"
            ],
            "image/png": "[encoded data removed]"
          },
          "metadata": {}
        }
      ],
      "source": [
        "plt.scatter(x,y)\n",
        "prediccion = modelo_regresion.predict(x.reshape(-1,1))\n",
        "plt.plot(x,prediccion,'r')\n",
        "plt.xlabel('x')\n",
        "plt.ylabel('y')\n",
        "plt.show()"
      ]
    },
    {
      "cell_type": "code",
      "execution_count": null,
      "metadata": {
        "id": "nBbQfskoL-ZA",
        "colab": {
          "base_uri": "https://localhost:8080/"
        },
        "outputId": "de881bed-3216-441a-f3fa-53b6c4c4aef1"
      },
      "outputs": [
        {
          "output_type": "stream",
          "name": "stdout",
          "text": [
            "y=[0.09183522]x+1.2858792525736682\n"
          ]
        }
      ],
      "source": [
        "#Fórmula de hipótesis\n",
        "print('y='+str(modelo_regresion.coef_)+ 'x+'+str(modelo_regresion.intercept_))"
      ]
    },
    {
      "cell_type": "markdown",
      "metadata": {
        "id": "yiyLLdBSL-ZN"
      },
      "source": [
        "## 3. Regresión Polinómica\n",
        "Definir el grado del polinomio"
      ]
    },
    {
      "cell_type": "code",
      "execution_count": null,
      "metadata": {
        "id": "3pxb8sOxL-ZO"
      },
      "outputs": [],
      "source": [
        "from sklearn.preprocessing import PolynomialFeatures"
      ]
    },
    {
      "cell_type": "code",
      "execution_count": null,
      "metadata": {
        "id": "Tc0DwpuEL-ZQ",
        "colab": {
          "base_uri": "https://localhost:8080/"
        },
        "outputId": "d7e424ea-1639-4d9c-a4c9-eb8da5190bd9"
      },
      "outputs": [
        {
          "output_type": "stream",
          "name": "stdout",
          "text": [
            "PolynomialFeatures(degree=5, include_bias=False)\n"
          ]
        }
      ],
      "source": [
        "# definir el grado del polinomio\n",
        "polinomio_1 = PolynomialFeatures(degree=5, include_bias=False) # completar xxxx con el grado del polinomio\n",
        "print(polinomio_1)"
      ]
    },
    {
      "cell_type": "code",
      "execution_count": null,
      "metadata": {
        "id": "_mfUuh8oL-ZR",
        "colab": {
          "base_uri": "https://localhost:8080/",
          "height": 74
        },
        "outputId": "d422046f-272a-4fb9-b9ef-0edc706d43e4"
      },
      "outputs": [
        {
          "output_type": "execute_result",
          "data": {
            "text/plain": [
              "PolynomialFeatures(degree=5, include_bias=False)"
            ],
            "text/html": [
              "<style>#sk-container-id-8 {color: black;background-color: white;}#sk-container-id-8 pre{padding: 0;}#sk-container-id-8 div.sk-toggleable {background-color: white;}#sk-container-id-8 label.sk-toggleable__label {cursor: pointer;display: block;width: 100%;margin-bottom: 0;padding: 0.3em;box-sizing: border-box;text-align: center;}#sk-container-id-8 label.sk-toggleable__label-arrow:before {content: \"▸\";float: left;margin-right: 0.25em;color: #696969;}#sk-container-id-8 label.sk-toggleable__label-arrow:hover:before {color: black;}#sk-container-id-8 div.sk-estimator:hover label.sk-toggleable__label-arrow:before {color: black;}#sk-container-id-8 div.sk-toggleable__content {max-height: 0;max-width: 0;overflow: hidden;text-align: left;background-color: #f0f8ff;}#sk-container-id-8 div.sk-toggleable__content pre {margin: 0.2em;color: black;border-radius: 0.25em;background-color: #f0f8ff;}#sk-container-id-8 input.sk-toggleable__control:checked~div.sk-toggleable__content {max-height: 200px;max-width: 100%;overflow: auto;}#sk-container-id-8 input.sk-toggleable__control:checked~label.sk-toggleable__label-arrow:before {content: \"▾\";}#sk-container-id-8 div.sk-estimator input.sk-toggleable__control:checked~label.sk-toggleable__label {background-color: #d4ebff;}#sk-container-id-8 div.sk-label input.sk-toggleable__control:checked~label.sk-toggleable__label {background-color: #d4ebff;}#sk-container-id-8 input.sk-hidden--visually {border: 0;clip: rect(1px 1px 1px 1px);clip: rect(1px, 1px, 1px, 1px);height: 1px;margin: -1px;overflow: hidden;padding: 0;position: absolute;width: 1px;}#sk-container-id-8 div.sk-estimator {font-family: monospace;background-color: #f0f8ff;border: 1px dotted black;border-radius: 0.25em;box-sizing: border-box;margin-bottom: 0.5em;}#sk-container-id-8 div.sk-estimator:hover {background-color: #d4ebff;}#sk-container-id-8 div.sk-parallel-item::after {content: \"\";width: 100%;border-bottom: 1px solid gray;flex-grow: 1;}#sk-container-id-8 div.sk-label:hover label.sk-toggleable__label {background-color: #d4ebff;}#sk-container-id-8 div.sk-serial::before {content: \"\";position: absolute;border-left: 1px solid gray;box-sizing: border-box;top: 0;bottom: 0;left: 50%;z-index: 0;}#sk-container-id-8 div.sk-serial {display: flex;flex-direction: column;align-items: center;background-color: white;padding-right: 0.2em;padding-left: 0.2em;position: relative;}#sk-container-id-8 div.sk-item {position: relative;z-index: 1;}#sk-container-id-8 div.sk-parallel {display: flex;align-items: stretch;justify-content: center;background-color: white;position: relative;}#sk-container-id-8 div.sk-item::before, #sk-container-id-8 div.sk-parallel-item::before {content: \"\";position: absolute;border-left: 1px solid gray;box-sizing: border-box;top: 0;bottom: 0;left: 50%;z-index: -1;}#sk-container-id-8 div.sk-parallel-item {display: flex;flex-direction: column;z-index: 1;position: relative;background-color: white;}#sk-container-id-8 div.sk-parallel-item:first-child::after {align-self: flex-end;width: 50%;}#sk-container-id-8 div.sk-parallel-item:last-child::after {align-self: flex-start;width: 50%;}#sk-container-id-8 div.sk-parallel-item:only-child::after {width: 0;}#sk-container-id-8 div.sk-dashed-wrapped {border: 1px dashed gray;margin: 0 0.4em 0.5em 0.4em;box-sizing: border-box;padding-bottom: 0.4em;background-color: white;}#sk-container-id-8 div.sk-label label {font-family: monospace;font-weight: bold;display: inline-block;line-height: 1.2em;}#sk-container-id-8 div.sk-label-container {text-align: center;}#sk-container-id-8 div.sk-container {/* jupyter's `normalize.less` sets `[hidden] { display: none; }` but bootstrap.min.css set `[hidden] { display: none !important; }` so we also need the `!important` here to be able to override the default hidden behavior on the sphinx rendered scikit-learn.org. See: https://github.com/scikit-learn/scikit-learn/issues/21755 */display: inline-block !important;position: relative;}#sk-container-id-8 div.sk-text-repr-fallback {display: none;}</style><div id=\"sk-container-id-8\" class=\"sk-top-container\"><div class=\"sk-text-repr-fallback\"><pre>PolynomialFeatures(degree=5, include_bias=False)</pre><b>In a Jupyter environment, please rerun this cell to show the HTML representation or trust the notebook. <br />On GitHub, the HTML representation is unable to render, please try loading this page with nbviewer.org.</b></div><div class=\"sk-container\" hidden><div class=\"sk-item\"><div class=\"sk-estimator sk-toggleable\"><input class=\"sk-toggleable__control sk-hidden--visually\" id=\"sk-estimator-id-8\" type=\"checkbox\" checked><label for=\"sk-estimator-id-8\" class=\"sk-toggleable__label sk-toggleable__label-arrow\">PolynomialFeatures</label><div class=\"sk-toggleable__content\"><pre>PolynomialFeatures(degree=5, include_bias=False)</pre></div></div></div></div></div>"
            ]
          },
          "metadata": {},
          "execution_count": 90
        }
      ],
      "source": [
        "polinomio_1.fit(x.reshape(-1,1))"
      ]
    },
    {
      "cell_type": "code",
      "execution_count": null,
      "metadata": {
        "id": "RWReJZMJL-ZV"
      },
      "outputs": [],
      "source": [
        "x_1 = polinomio_1.transform(x.reshape(-1,1))"
      ]
    },
    {
      "cell_type": "code",
      "execution_count": null,
      "metadata": {
        "id": "mWMNVzWML-Zc",
        "colab": {
          "base_uri": "https://localhost:8080/"
        },
        "outputId": "0a314c29-3709-4737-b7ed-986a5cb0bd62"
      },
      "outputs": [
        {
          "output_type": "execute_result",
          "data": {
            "text/plain": [
              "array([[0.00000000e+00, 0.00000000e+00, 0.00000000e+00, 0.00000000e+00,\n",
              "        0.00000000e+00],\n",
              "       [5.00000000e-01, 2.50000000e-01, 1.25000000e-01, 6.25000000e-02,\n",
              "        3.12500000e-02],\n",
              "       [1.00000000e+00, 1.00000000e+00, 1.00000000e+00, 1.00000000e+00,\n",
              "        1.00000000e+00],\n",
              "       [1.50000000e+00, 2.25000000e+00, 3.37500000e+00, 5.06250000e+00,\n",
              "        7.59375000e+00],\n",
              "       [2.00000000e+00, 4.00000000e+00, 8.00000000e+00, 1.60000000e+01,\n",
              "        3.20000000e+01],\n",
              "       [2.50000000e+00, 6.25000000e+00, 1.56250000e+01, 3.90625000e+01,\n",
              "        9.76562500e+01],\n",
              "       [3.00000000e+00, 9.00000000e+00, 2.70000000e+01, 8.10000000e+01,\n",
              "        2.43000000e+02],\n",
              "       [3.50000000e+00, 1.22500000e+01, 4.28750000e+01, 1.50062500e+02,\n",
              "        5.25218750e+02],\n",
              "       [4.00000000e+00, 1.60000000e+01, 6.40000000e+01, 2.56000000e+02,\n",
              "        1.02400000e+03],\n",
              "       [4.50000000e+00, 2.02500000e+01, 9.11250000e+01, 4.10062500e+02,\n",
              "        1.84528125e+03],\n",
              "       [5.00000000e+00, 2.50000000e+01, 1.25000000e+02, 6.25000000e+02,\n",
              "        3.12500000e+03],\n",
              "       [5.50000000e+00, 3.02500000e+01, 1.66375000e+02, 9.15062500e+02,\n",
              "        5.03284375e+03],\n",
              "       [6.00000000e+00, 3.60000000e+01, 2.16000000e+02, 1.29600000e+03,\n",
              "        7.77600000e+03],\n",
              "       [6.50000000e+00, 4.22500000e+01, 2.74625000e+02, 1.78506250e+03,\n",
              "        1.16029062e+04],\n",
              "       [7.00000000e+00, 4.90000000e+01, 3.43000000e+02, 2.40100000e+03,\n",
              "        1.68070000e+04],\n",
              "       [7.50000000e+00, 5.62500000e+01, 4.21875000e+02, 3.16406250e+03,\n",
              "        2.37304688e+04],\n",
              "       [8.00000000e+00, 6.40000000e+01, 5.12000000e+02, 4.09600000e+03,\n",
              "        3.27680000e+04],\n",
              "       [8.50000000e+00, 7.22500000e+01, 6.14125000e+02, 5.22006250e+03,\n",
              "        4.43705312e+04],\n",
              "       [9.00000000e+00, 8.10000000e+01, 7.29000000e+02, 6.56100000e+03,\n",
              "        5.90490000e+04],\n",
              "       [9.50000000e+00, 9.02500000e+01, 8.57375000e+02, 8.14506250e+03,\n",
              "        7.73780938e+04],\n",
              "       [1.00000000e+01, 1.00000000e+02, 1.00000000e+03, 1.00000000e+04,\n",
              "        1.00000000e+05],\n",
              "       [1.05000000e+01, 1.10250000e+02, 1.15762500e+03, 1.21550625e+04,\n",
              "        1.27628156e+05],\n",
              "       [1.10000000e+01, 1.21000000e+02, 1.33100000e+03, 1.46410000e+04,\n",
              "        1.61051000e+05],\n",
              "       [1.15000000e+01, 1.32250000e+02, 1.52087500e+03, 1.74900625e+04,\n",
              "        2.01135719e+05],\n",
              "       [1.20000000e+01, 1.44000000e+02, 1.72800000e+03, 2.07360000e+04,\n",
              "        2.48832000e+05],\n",
              "       [1.25000000e+01, 1.56250000e+02, 1.95312500e+03, 2.44140625e+04,\n",
              "        3.05175781e+05],\n",
              "       [1.30000000e+01, 1.69000000e+02, 2.19700000e+03, 2.85610000e+04,\n",
              "        3.71293000e+05],\n",
              "       [1.35000000e+01, 1.82250000e+02, 2.46037500e+03, 3.32150625e+04,\n",
              "        4.48403344e+05],\n",
              "       [1.40000000e+01, 1.96000000e+02, 2.74400000e+03, 3.84160000e+04,\n",
              "        5.37824000e+05],\n",
              "       [1.45000000e+01, 2.10250000e+02, 3.04862500e+03, 4.42050625e+04,\n",
              "        6.40973406e+05],\n",
              "       [1.50000000e+01, 2.25000000e+02, 3.37500000e+03, 5.06250000e+04,\n",
              "        7.59375000e+05],\n",
              "       [1.55000000e+01, 2.40250000e+02, 3.72387500e+03, 5.77200625e+04,\n",
              "        8.94660969e+05],\n",
              "       [1.60000000e+01, 2.56000000e+02, 4.09600000e+03, 6.55360000e+04,\n",
              "        1.04857600e+06],\n",
              "       [1.65000000e+01, 2.72250000e+02, 4.49212500e+03, 7.41200625e+04,\n",
              "        1.22298103e+06],\n",
              "       [1.70000000e+01, 2.89000000e+02, 4.91300000e+03, 8.35210000e+04,\n",
              "        1.41985700e+06],\n",
              "       [1.75000000e+01, 3.06250000e+02, 5.35937500e+03, 9.37890625e+04,\n",
              "        1.64130859e+06],\n",
              "       [1.80000000e+01, 3.24000000e+02, 5.83200000e+03, 1.04976000e+05,\n",
              "        1.88956800e+06],\n",
              "       [1.85000000e+01, 3.42250000e+02, 6.33162500e+03, 1.17135062e+05,\n",
              "        2.16699866e+06],\n",
              "       [1.90000000e+01, 3.61000000e+02, 6.85900000e+03, 1.30321000e+05,\n",
              "        2.47609900e+06],\n",
              "       [1.95000000e+01, 3.80250000e+02, 7.41487500e+03, 1.44590062e+05,\n",
              "        2.81950622e+06]])"
            ]
          },
          "metadata": {},
          "execution_count": 92
        }
      ],
      "source": [
        "x_1 # verificamos que se haya calculado correctamente x_"
      ]
    },
    {
      "cell_type": "code",
      "execution_count": null,
      "metadata": {
        "id": "nxc7PHA8L-Zf"
      },
      "outputs": [],
      "source": [
        "model = LinearRegression().fit(x_1, y)"
      ]
    },
    {
      "cell_type": "code",
      "execution_count": null,
      "metadata": {
        "id": "WJgHUaQdL-Zf",
        "colab": {
          "base_uri": "https://localhost:8080/"
        },
        "outputId": "364328f7-7bb8-4e0d-c6ad-9b11f6cde752"
      },
      "outputs": [
        {
          "output_type": "stream",
          "name": "stdout",
          "text": [
            "coefficients: [ 2.67155440e-01 -7.46124217e-02  1.00274430e-02 -5.38979619e-04\n",
            "  1.01191067e-05]\n"
          ]
        }
      ],
      "source": [
        "print(f\"coefficients: {model.coef_}\")"
      ]
    },
    {
      "cell_type": "code",
      "execution_count": null,
      "metadata": {
        "id": "9Rf_ip4SL-Zg",
        "colab": {
          "base_uri": "https://localhost:8080/"
        },
        "outputId": "9fbbdb13-984c-4c9c-f771-7632e5742144"
      },
      "outputs": [
        {
          "output_type": "stream",
          "name": "stdout",
          "text": [
            "intercept: 1.2770299104732854\n"
          ]
        }
      ],
      "source": [
        "print(f\"intercept: {model.intercept_}\")"
      ]
    },
    {
      "cell_type": "code",
      "execution_count": null,
      "metadata": {
        "id": "7zhDXUNgL-Zi",
        "colab": {
          "base_uri": "https://localhost:8080/"
        },
        "outputId": "62289309-c77f-4e16-c8f1-1bb72c068b0f"
      },
      "outputs": [
        {
          "output_type": "stream",
          "name": "stdout",
          "text": [
            "coefficient of determination: 0.9111724760963863\n"
          ]
        }
      ],
      "source": [
        "r_sq = model.score(x_1, y)\n",
        "print(f\"coefficient of determination: {r_sq}\")"
      ]
    },
    {
      "cell_type": "code",
      "execution_count": null,
      "metadata": {
        "id": "PngRB7GWL-Zn",
        "colab": {
          "base_uri": "https://localhost:8080/",
          "height": 449
        },
        "outputId": "1d730ebf-f1b1-440d-898f-4274bba97e2e"
      },
      "outputs": [
        {
          "output_type": "display_data",
          "data": {
            "text/plain": [
              "<Figure size 640x480 with 1 Axes>"
            ],
            "image/png": "[encoded data removed]"
          },
          "metadata": {}
        }
      ],
      "source": [
        "# Representación gráfica de la función hipótesis generada\n",
        "x1 = np.arange(0,20,1)\n",
        "y1 = model.coef_[0]*x1+model.coef_[1]*x1**2+model.coef_[2]*x1**3+model.coef_[3]*x1**4+model.coef_[4]*x1**5+model.intercept_\n",
        "\n",
        "plt.plot(x1, y1, \"g-\")  # estilo de linea solida verde\n",
        "plt.plot(x, y, \"b.\")  # círculos azules\n",
        "plt.xlabel(\"x\")\n",
        "plt.ylabel(\"y\")\n",
        "plt.show()"
      ]
    },
    {
      "cell_type": "markdown",
      "metadata": {
        "id": "oifGnhLvL-Zq"
      },
      "source": [
        "Conclusiones:\n",
        "* ¿Cual es el modelo con el cual obtenemos el mejor resultado?"
      ]
    },
    {
      "cell_type": "markdown",
      "source": [
        "Viendo la forma que toman los valores de y(x) consideramos que la regresion lieal obtendrá mejores resultados. O en su defecto una polinomial con grado menor a 3."
      ],
      "metadata": {
        "id": "4v__oIx1lTeW"
      }
    },
    {
      "cell_type": "code",
      "execution_count": null,
      "metadata": {
        "id": "3TAvkPWsL-Zr"
      },
      "outputs": [],
      "source": []
    },
    {
      "cell_type": "code",
      "execution_count": null,
      "metadata": {
        "id": "_AkgL3-eL-Zv"
      },
      "outputs": [],
      "source": []
    }
  ],
  "metadata": {
    "kernelspec": {
      "display_name": "Python 3 (ipykernel)",
      "language": "python",
      "name": "python3"
    },
    "language_info": {
      "codemirror_mode": {
        "name": "ipython",
        "version": 3
      },
      "file_extension": ".py",
      "mimetype": "text/x-python",
      "name": "python",
      "nbconvert_exporter": "python",
      "pygments_lexer": "ipython3",
      "version": "3.9.17"
    },
    "colab": {
      "provenance": []
    }
  },
  "nbformat": 4,
  "nbformat_minor": 0
}
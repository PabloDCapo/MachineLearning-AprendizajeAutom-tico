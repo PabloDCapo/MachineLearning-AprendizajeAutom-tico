{
  "cells": [
    {
      "cell_type": "markdown",
      "metadata": {
        "id": "dEmmu4oA6-C-"
      },
      "source": [
        "# Regresión Lineal y Polinómica\n",
        "\n",
        "Los problemas de regresión suelen tener una variable dependiente continua e ilimitada. Sin embargo, las entradas pueden ser datos continuos, discretos o incluso categóricos, como género, nacionalidad o marca. Resolver este tipo de datos en una regresión no es simple, de deja este link para leer:  \n",
        "* https://academic.oup.com/rheumatology/article/54/7/1141/1849688\n",
        "* https://stats.oarc.ucla.edu/spss/faq/coding-systems-for-categorical-variables-in-regression-analysis-2/\n",
        "## Regresión lineal simple con scikit-learn\n",
        "### 1. Importar paquetes y clases\n",
        "El primer paso es importar el paquete numpyy la clase LinearRegressiondesde sklearn.linear_model:"
      ]
    },
    {
      "cell_type": "code",
      "execution_count": null,
      "metadata": {
        "id": "s0h17S3v6-DC"
      },
      "outputs": [],
      "source": [
        "import numpy as np\n",
        "from sklearn.linear_model import LinearRegression"
      ]
    },
    {
      "cell_type": "markdown",
      "metadata": {
        "id": "QSl9Cp-n6-DE"
      },
      "source": [
        "Utilizaremos la clase **sklearn.linear_model.LinearRegression** para realizar regresiones lineales y polinómicas y hacer predicciones.\n",
        "### 2. Proporcionar datos\n",
        "El segundo paso es definir los datos con los que trabajar. Las entradas (regresores, 𝑥) y la salida (respuesta, 𝑦) deben ser matrices u objetos similares. Esta es la forma más sencilla de proporcionar datos para la regresión:"
      ]
    },
    {
      "cell_type": "code",
      "execution_count": null,
      "metadata": {
        "id": "VKPnXKkI6-DF"
      },
      "outputs": [],
      "source": [
        "x = np.array([5, 15, 25, 35, 45, 55, 52, 48, 39]).reshape((-1, 1))\n",
        "y = np.array([5, 20, 14, 32, 22, 38, 7, 11, 15])"
      ]
    },
    {
      "cell_type": "markdown",
      "metadata": {
        "id": "3AdQOW4J6-DG"
      },
      "source": [
        "Ya tenemos las dos matrices: la entrada, **x** y la salida **y**. Debe llamar a la función **reshape()** a **x** porque esta matriz debe ser bidimensional, o más precisamente, debe tener una columna y tantas filas como sea necesario. Eso es exactamente lo que especifica el argumento (-1, 1) de **reshape()**."
      ]
    },
    {
      "cell_type": "code",
      "execution_count": null,
      "metadata": {
        "id": "MpNUOv636-DH",
        "outputId": "5b418563-4342-4a9c-b4bc-beb1a66cd91b"
      },
      "outputs": [
        {
          "data": {
            "text/plain": [
              "array([[ 5],\n",
              "       [15],\n",
              "       [25],\n",
              "       [35],\n",
              "       [45],\n",
              "       [55],\n",
              "       [52],\n",
              "       [48],\n",
              "       [39]])"
            ]
          },
          "execution_count": 4,
          "metadata": {},
          "output_type": "execute_result"
        }
      ],
      "source": [
        "x"
      ]
    },
    {
      "cell_type": "code",
      "execution_count": null,
      "metadata": {
        "id": "xaGERMow6-DJ",
        "outputId": "0d8a4ec5-41e3-41e5-ffe0-f2e41d33513a"
      },
      "outputs": [
        {
          "data": {
            "text/plain": [
              "(9, 1)"
            ]
          },
          "execution_count": 5,
          "metadata": {},
          "output_type": "execute_result"
        }
      ],
      "source": [
        "x.shape"
      ]
    },
    {
      "cell_type": "code",
      "execution_count": null,
      "metadata": {
        "id": "HwJfmef86-DK",
        "outputId": "d86f961d-f459-4cad-d65b-502048267b4c"
      },
      "outputs": [
        {
          "data": {
            "text/plain": [
              "array([ 5, 20, 14, 32, 22, 38,  7, 11, 15])"
            ]
          },
          "execution_count": 6,
          "metadata": {},
          "output_type": "execute_result"
        }
      ],
      "source": [
        "y"
      ]
    },
    {
      "cell_type": "code",
      "execution_count": null,
      "metadata": {
        "id": "KmC4BA0m6-DL",
        "outputId": "7dc50fc7-799a-42da-c700-4e54edeade3c"
      },
      "outputs": [
        {
          "data": {
            "text/plain": [
              "(9,)"
            ]
          },
          "execution_count": 7,
          "metadata": {},
          "output_type": "execute_result"
        }
      ],
      "source": [
        "y.shape"
      ]
    },
    {
      "cell_type": "markdown",
      "metadata": {
        "id": "YyGOMeCa6-DM"
      },
      "source": [
        "Ahora podemos ver que **x** tiene dos dimensiones, mientras que **y** tiene una sola dimensión.\n",
        "\n",
        "Veamos la distribución de los datos:"
      ]
    },
    {
      "cell_type": "code",
      "execution_count": null,
      "metadata": {
        "id": "gX6Sf3uf6-DN",
        "outputId": "4f503fec-653d-420f-ffa7-2ad14702082f"
      },
      "outputs": [
        {
          "data": {
            "image/png": "[encoded data removed]",
            "text/plain": [
              "<Figure size 640x480 with 1 Axes>"
            ]
          },
          "metadata": {},
          "output_type": "display_data"
        }
      ],
      "source": [
        "import matplotlib.pyplot as plt\n",
        "%matplotlib inline\n",
        "\n",
        "plt.plot(x, y, \"b.\")  # círculos azules\n",
        "plt.xlabel(\"x\")\n",
        "plt.ylabel(\"y\")\n",
        "plt.show()"
      ]
    },
    {
      "cell_type": "markdown",
      "metadata": {
        "id": "uza5_xf96-DO"
      },
      "source": [
        "### 3. Crear un modelo y entrenarlo\n",
        "El siguiente paso es crear un modelo de regresión lineal y entrenarlo utilizando los datos existentes.\n",
        "\n",
        "Creamos una instancia de la clase **LinearRegression**, que representará el modelo de regresión:"
      ]
    },
    {
      "cell_type": "code",
      "execution_count": null,
      "metadata": {
        "id": "Ew0RcpqH6-DP"
      },
      "outputs": [],
      "source": [
        "model = LinearRegression()"
      ]
    },
    {
      "cell_type": "markdown",
      "metadata": {
        "id": "kbkcO1EO6-DQ"
      },
      "source": [
        "Esta declaración crea la variable **model** como una instancia de la clase **LinearRegression**. Puede proporcionar varios parámetros opcionales para LinearRegression:\n",
        "\n",
        "* **fit_intercept**: es un booleano que, si True, decide calcular el intercepto 𝑏₀ o, si False, lo considera igual a cero. Por defecto es True.\n",
        "* **copy_X**: es un booleano que decide si copiar (True) o sobrescribir las variables de entrada (False). Es True por defecto.\n",
        "* **n_jobs**: es un número entero o None. Representa el número de trabajos utilizados en el cálculo paralelo. El valor predeterminado es None, que generalmente significa un trabajo. -1 significa utilizar todos los procesadores disponibles.\n",
        "\n",
        "La instancia **model** definida anteriormente utiliza los valores predeterminados de todos los parámetros.\n",
        "\n",
        "Ahora debemos aplicar la función **fit()** a **model**:"
      ]
    },
    {
      "cell_type": "code",
      "execution_count": null,
      "metadata": {
        "id": "QE6qMOLl6-DR",
        "outputId": "502fba93-6286-4092-c879-dfce093f2a55"
      },
      "outputs": [
        {
          "data": {
            "text/html": [
              "<style>#sk-container-id-1 {color: black;background-color: white;}#sk-container-id-1 pre{padding: 0;}#sk-container-id-1 div.sk-toggleable {background-color: white;}#sk-container-id-1 label.sk-toggleable__label {cursor: pointer;display: block;width: 100%;margin-bottom: 0;padding: 0.3em;box-sizing: border-box;text-align: center;}#sk-container-id-1 label.sk-toggleable__label-arrow:before {content: \"▸\";float: left;margin-right: 0.25em;color: #696969;}#sk-container-id-1 label.sk-toggleable__label-arrow:hover:before {color: black;}#sk-container-id-1 div.sk-estimator:hover label.sk-toggleable__label-arrow:before {color: black;}#sk-container-id-1 div.sk-toggleable__content {max-height: 0;max-width: 0;overflow: hidden;text-align: left;background-color: #f0f8ff;}#sk-container-id-1 div.sk-toggleable__content pre {margin: 0.2em;color: black;border-radius: 0.25em;background-color: #f0f8ff;}#sk-container-id-1 input.sk-toggleable__control:checked~div.sk-toggleable__content {max-height: 200px;max-width: 100%;overflow: auto;}#sk-container-id-1 input.sk-toggleable__control:checked~label.sk-toggleable__label-arrow:before {content: \"▾\";}#sk-container-id-1 div.sk-estimator input.sk-toggleable__control:checked~label.sk-toggleable__label {background-color: #d4ebff;}#sk-container-id-1 div.sk-label input.sk-toggleable__control:checked~label.sk-toggleable__label {background-color: #d4ebff;}#sk-container-id-1 input.sk-hidden--visually {border: 0;clip: rect(1px 1px 1px 1px);clip: rect(1px, 1px, 1px, 1px);height: 1px;margin: -1px;overflow: hidden;padding: 0;position: absolute;width: 1px;}#sk-container-id-1 div.sk-estimator {font-family: monospace;background-color: #f0f8ff;border: 1px dotted black;border-radius: 0.25em;box-sizing: border-box;margin-bottom: 0.5em;}#sk-container-id-1 div.sk-estimator:hover {background-color: #d4ebff;}#sk-container-id-1 div.sk-parallel-item::after {content: \"\";width: 100%;border-bottom: 1px solid gray;flex-grow: 1;}#sk-container-id-1 div.sk-label:hover label.sk-toggleable__label {background-color: #d4ebff;}#sk-container-id-1 div.sk-serial::before {content: \"\";position: absolute;border-left: 1px solid gray;box-sizing: border-box;top: 0;bottom: 0;left: 50%;z-index: 0;}#sk-container-id-1 div.sk-serial {display: flex;flex-direction: column;align-items: center;background-color: white;padding-right: 0.2em;padding-left: 0.2em;position: relative;}#sk-container-id-1 div.sk-item {position: relative;z-index: 1;}#sk-container-id-1 div.sk-parallel {display: flex;align-items: stretch;justify-content: center;background-color: white;position: relative;}#sk-container-id-1 div.sk-item::before, #sk-container-id-1 div.sk-parallel-item::before {content: \"\";position: absolute;border-left: 1px solid gray;box-sizing: border-box;top: 0;bottom: 0;left: 50%;z-index: -1;}#sk-container-id-1 div.sk-parallel-item {display: flex;flex-direction: column;z-index: 1;position: relative;background-color: white;}#sk-container-id-1 div.sk-parallel-item:first-child::after {align-self: flex-end;width: 50%;}#sk-container-id-1 div.sk-parallel-item:last-child::after {align-self: flex-start;width: 50%;}#sk-container-id-1 div.sk-parallel-item:only-child::after {width: 0;}#sk-container-id-1 div.sk-dashed-wrapped {border: 1px dashed gray;margin: 0 0.4em 0.5em 0.4em;box-sizing: border-box;padding-bottom: 0.4em;background-color: white;}#sk-container-id-1 div.sk-label label {font-family: monospace;font-weight: bold;display: inline-block;line-height: 1.2em;}#sk-container-id-1 div.sk-label-container {text-align: center;}#sk-container-id-1 div.sk-container {/* jupyter's `normalize.less` sets `[hidden] { display: none; }` but bootstrap.min.css set `[hidden] { display: none !important; }` so we also need the `!important` here to be able to override the default hidden behavior on the sphinx rendered scikit-learn.org. See: https://github.com/scikit-learn/scikit-learn/issues/21755 */display: inline-block !important;position: relative;}#sk-container-id-1 div.sk-text-repr-fallback {display: none;}</style><div id=\"sk-container-id-1\" class=\"sk-top-container\"><div class=\"sk-text-repr-fallback\"><pre>LinearRegression()</pre><b>In a Jupyter environment, please rerun this cell to show the HTML representation or trust the notebook. <br />On GitHub, the HTML representation is unable to render, please try loading this page with nbviewer.org.</b></div><div class=\"sk-container\" hidden><div class=\"sk-item\"><div class=\"sk-estimator sk-toggleable\"><input class=\"sk-toggleable__control sk-hidden--visually\" id=\"sk-estimator-id-1\" type=\"checkbox\" checked><label for=\"sk-estimator-id-1\" class=\"sk-toggleable__label sk-toggleable__label-arrow\">LinearRegression</label><div class=\"sk-toggleable__content\"><pre>LinearRegression()</pre></div></div></div></div></div>"
            ],
            "text/plain": [
              "LinearRegression()"
            ]
          },
          "execution_count": 10,
          "metadata": {},
          "output_type": "execute_result"
        }
      ],
      "source": [
        "model.fit(x, y)"
      ]
    },
    {
      "cell_type": "markdown",
      "metadata": {
        "id": "3Y9HVomT6-DS"
      },
      "source": [
        "Con **fit()**, calculas los valores óptimos de los pesos w y 𝑏, usando la entrada y la salida existentes, **x** e **y**, como argumentos. En otras palabras **fit()** entrena el modelo.\n",
        "\n",
        "Veamos la recta que calculó el modelo:"
      ]
    },
    {
      "cell_type": "code",
      "execution_count": null,
      "metadata": {
        "id": "ive36HD56-DT",
        "outputId": "12335e97-96b0-460f-fc20-432341209cc9"
      },
      "outputs": [
        {
          "data": {
            "text/html": [
              "<div>\n",
              "<style scoped>\n",
              "    .dataframe tbody tr th:only-of-type {\n",
              "        vertical-align: middle;\n",
              "    }\n",
              "\n",
              "    .dataframe tbody tr th {\n",
              "        vertical-align: top;\n",
              "    }\n",
              "\n",
              "    .dataframe thead th {\n",
              "        text-align: right;\n",
              "    }\n",
              "</style>\n",
              "<table border=\"1\" class=\"dataframe\">\n",
              "  <thead>\n",
              "    <tr style=\"text-align: right;\">\n",
              "      <th></th>\n",
              "      <th>X</th>\n",
              "      <th>Y</th>\n",
              "    </tr>\n",
              "  </thead>\n",
              "  <tbody>\n",
              "    <tr>\n",
              "      <th>0</th>\n",
              "      <td>5</td>\n",
              "      <td>5</td>\n",
              "    </tr>\n",
              "    <tr>\n",
              "      <th>1</th>\n",
              "      <td>15</td>\n",
              "      <td>20</td>\n",
              "    </tr>\n",
              "    <tr>\n",
              "      <th>2</th>\n",
              "      <td>25</td>\n",
              "      <td>14</td>\n",
              "    </tr>\n",
              "    <tr>\n",
              "      <th>3</th>\n",
              "      <td>35</td>\n",
              "      <td>32</td>\n",
              "    </tr>\n",
              "    <tr>\n",
              "      <th>4</th>\n",
              "      <td>45</td>\n",
              "      <td>22</td>\n",
              "    </tr>\n",
              "    <tr>\n",
              "      <th>5</th>\n",
              "      <td>55</td>\n",
              "      <td>38</td>\n",
              "    </tr>\n",
              "    <tr>\n",
              "      <th>6</th>\n",
              "      <td>52</td>\n",
              "      <td>7</td>\n",
              "    </tr>\n",
              "    <tr>\n",
              "      <th>7</th>\n",
              "      <td>48</td>\n",
              "      <td>11</td>\n",
              "    </tr>\n",
              "    <tr>\n",
              "      <th>8</th>\n",
              "      <td>39</td>\n",
              "      <td>15</td>\n",
              "    </tr>\n",
              "  </tbody>\n",
              "</table>\n",
              "</div>"
            ],
            "text/plain": [
              "    X   Y\n",
              "0   5   5\n",
              "1  15  20\n",
              "2  25  14\n",
              "3  35  32\n",
              "4  45  22\n",
              "5  55  38\n",
              "6  52   7\n",
              "7  48  11\n",
              "8  39  15"
            ]
          },
          "execution_count": 11,
          "metadata": {},
          "output_type": "execute_result"
        }
      ],
      "source": [
        "import pandas as pd\n",
        "\n",
        "data = {'X': x.flatten(), 'Y': y.flatten()} # transformamos a nuestro conjunto de datos en un diccionario\n",
        "df = pd.DataFrame(data)\n",
        "df.head(10)"
      ]
    },
    {
      "cell_type": "code",
      "execution_count": null,
      "metadata": {
        "id": "ztNI_MNM6-DV",
        "outputId": "ced34734-20eb-424c-cd14-8fa5330b8ffc"
      },
      "outputs": [
        {
          "name": "stdout",
          "output_type": "stream",
          "text": [
            "Los valores de Xmin y Xmax son: [[ 5]\n",
            " [55]]\n",
            "Los valores de Y para Xmin y Xmax son: [11.3034192  22.66641686]\n"
          ]
        }
      ],
      "source": [
        "# Predicción para el valor mínimo y máximo del conjunto de datos\n",
        "# Calculamos los valor de Xmin y Xmax\n",
        "X_min_max = np.array([[df[\"X\"].min()], [df[\"X\"].max()]])\n",
        "# Predecimos los valores de Y para Xmin y Xmax\n",
        "y_train_pred = model.predict(X_min_max)\n",
        "print(\"Los valores de Xmin y Xmax son:\", X_min_max)\n",
        "print(\"Los valores de Y para Xmin y Xmax son:\", y_train_pred)"
      ]
    },
    {
      "cell_type": "code",
      "execution_count": null,
      "metadata": {
        "id": "pfMfxr5V6-DW",
        "outputId": "b101a81d-885d-45fe-b90e-23324fdeaa2b"
      },
      "outputs": [
        {
          "data": {
            "image/png": "[encoded data removed]",
            "text/plain": [
              "<Figure size 640x480 with 1 Axes>"
            ]
          },
          "metadata": {},
          "output_type": "display_data"
        }
      ],
      "source": [
        "# Representación gráfica de la función hipótesis generada\n",
        "plt.plot(X_min_max, y_train_pred, \"g-\")  # estilo de linea solida verde\n",
        "plt.plot(df['X'], df['Y'], \"b.\")\n",
        "plt.xlabel(\"x\")\n",
        "plt.ylabel(\"y\")\n",
        "plt.show()"
      ]
    },
    {
      "cell_type": "markdown",
      "metadata": {
        "id": "s5n1qVob6-DX"
      },
      "source": [
        "### 4. Calcular 𝑅²\n",
        "Ya tenemos el modelo entrenado, ahora podemos calcular la métrica 𝑅² para saber si el modelo funciona satisfactoriamente.\n",
        "\n",
        "Podemos calcular el coeficiente 𝑅², con **score()**:"
      ]
    },
    {
      "cell_type": "code",
      "execution_count": null,
      "metadata": {
        "id": "dgnwAkCi6-DY",
        "outputId": "957edf4c-926d-408b-90ce-3a8f9e982f02"
      },
      "outputs": [
        {
          "name": "stdout",
          "output_type": "stream",
          "text": [
            "coefficient of determination: 0.12507546424002336\n"
          ]
        }
      ],
      "source": [
        "r_sq = model.score(x, y)\n",
        "print(f\"coefficient of determination: {r_sq}\")"
      ]
    },
    {
      "cell_type": "markdown",
      "metadata": {
        "id": "NlCiAgZQ6-DZ"
      },
      "source": [
        "En la función **score()**, los argumentos son el predictor **x** y la respuesta **y** y el valor de retorno es 𝑅².\n",
        "\n",
        "Los atributos de model son **intercept_**, que representa el coeficiente 𝑏₀, y **coef_**, que representa 𝑏₁:"
      ]
    },
    {
      "cell_type": "code",
      "execution_count": null,
      "metadata": {
        "id": "RO-ekV_e6-Da",
        "outputId": "3efd2aa9-2389-425c-db57-80f378e0b5e4"
      },
      "outputs": [
        {
          "name": "stdout",
          "output_type": "stream",
          "text": [
            "intercept: 10.16711943793911\n",
            "slope: [0.22725995]\n"
          ]
        }
      ],
      "source": [
        "print(f\"intercept: {model.intercept_}\")\n",
        "print(f\"slope: {model.coef_}\")"
      ]
    },
    {
      "cell_type": "markdown",
      "metadata": {
        "id": "spsOvWEU6-Da"
      },
      "source": [
        "Notar que *intercept_** es un escalar, mientras que **coef_** es una matriz.\n",
        "\n",
        "**Not**: En scikit-learn, por convención , un guión bajo al final indica que se estima un atributo. En este ejemplo, **intercept_** y **coef_** son valores estimados.\n",
        "\n",
        "Los valores de 𝑏₀ y w lo spodemos verificar visualmente en la recta que generó el modelo.\n",
        "### 5. Predecir la respuesta\n",
        "Una vez que tenga un modelo satisfactorio, puede usarlo para predicciones con datos existentes o nuevos. Para obtener la respuesta predicha, utilizamos **predict()**:"
      ]
    },
    {
      "cell_type": "code",
      "execution_count": null,
      "metadata": {
        "id": "g0B0U2W-6-Db",
        "outputId": "c448b3f5-3bd4-46b6-fe0d-54170e76c712"
      },
      "outputs": [
        {
          "name": "stdout",
          "output_type": "stream",
          "text": [
            "predicted response:\n",
            "[11.3034192  13.57601874 15.84861827 18.1212178  20.39381733 22.66641686\n",
            " 21.984637   21.07559719 19.03025761]\n",
            "características de entrada x:\n",
            "[[ 5]\n",
            " [15]\n",
            " [25]\n",
            " [35]\n",
            " [45]\n",
            " [55]\n",
            " [52]\n",
            " [48]\n",
            " [39]]\n"
          ]
        }
      ],
      "source": [
        "y_pred = model.predict(x)\n",
        "print(f\"predicted response:\\n{y_pred}\")\n",
        "print(f\"características de entrada x:\\n{x}\")"
      ]
    },
    {
      "cell_type": "code",
      "execution_count": null,
      "metadata": {
        "id": "BhPpvg5k6-Db",
        "outputId": "c4f2af42-6ebe-4734-b5ba-49052116d3c5"
      },
      "outputs": [
        {
          "data": {
            "text/html": [
              "<div>\n",
              "<style scoped>\n",
              "    .dataframe tbody tr th:only-of-type {\n",
              "        vertical-align: middle;\n",
              "    }\n",
              "\n",
              "    .dataframe tbody tr th {\n",
              "        vertical-align: top;\n",
              "    }\n",
              "\n",
              "    .dataframe thead th {\n",
              "        text-align: right;\n",
              "    }\n",
              "</style>\n",
              "<table border=\"1\" class=\"dataframe\">\n",
              "  <thead>\n",
              "    <tr style=\"text-align: right;\">\n",
              "      <th></th>\n",
              "      <th>X</th>\n",
              "      <th>Y</th>\n",
              "    </tr>\n",
              "  </thead>\n",
              "  <tbody>\n",
              "    <tr>\n",
              "      <th>0</th>\n",
              "      <td>5</td>\n",
              "      <td>5</td>\n",
              "    </tr>\n",
              "    <tr>\n",
              "      <th>1</th>\n",
              "      <td>15</td>\n",
              "      <td>20</td>\n",
              "    </tr>\n",
              "    <tr>\n",
              "      <th>2</th>\n",
              "      <td>25</td>\n",
              "      <td>14</td>\n",
              "    </tr>\n",
              "    <tr>\n",
              "      <th>3</th>\n",
              "      <td>35</td>\n",
              "      <td>32</td>\n",
              "    </tr>\n",
              "    <tr>\n",
              "      <th>4</th>\n",
              "      <td>45</td>\n",
              "      <td>22</td>\n",
              "    </tr>\n",
              "    <tr>\n",
              "      <th>5</th>\n",
              "      <td>55</td>\n",
              "      <td>38</td>\n",
              "    </tr>\n",
              "    <tr>\n",
              "      <th>6</th>\n",
              "      <td>52</td>\n",
              "      <td>7</td>\n",
              "    </tr>\n",
              "    <tr>\n",
              "      <th>7</th>\n",
              "      <td>48</td>\n",
              "      <td>11</td>\n",
              "    </tr>\n",
              "    <tr>\n",
              "      <th>8</th>\n",
              "      <td>39</td>\n",
              "      <td>15</td>\n",
              "    </tr>\n",
              "  </tbody>\n",
              "</table>\n",
              "</div>"
            ],
            "text/plain": [
              "    X   Y\n",
              "0   5   5\n",
              "1  15  20\n",
              "2  25  14\n",
              "3  35  32\n",
              "4  45  22\n",
              "5  55  38\n",
              "6  52   7\n",
              "7  48  11\n",
              "8  39  15"
            ]
          },
          "execution_count": 17,
          "metadata": {},
          "output_type": "execute_result"
        }
      ],
      "source": [
        "df.head(10)  # recordemos los valores reales"
      ]
    },
    {
      "cell_type": "code",
      "execution_count": null,
      "metadata": {
        "id": "7TO4fyKQ6-Dd"
      },
      "outputs": [],
      "source": []
    },
    {
      "cell_type": "code",
      "execution_count": null,
      "metadata": {
        "id": "6nk1Ill66-Dd"
      },
      "outputs": [],
      "source": []
    },
    {
      "cell_type": "code",
      "execution_count": null,
      "metadata": {
        "id": "cyLOS7R06-De"
      },
      "outputs": [],
      "source": []
    }
  ],
  "metadata": {
    "kernelspec": {
      "display_name": "Python 3 (ipykernel)",
      "language": "python",
      "name": "python3"
    },
    "language_info": {
      "codemirror_mode": {
        "name": "ipython",
        "version": 3
      },
      "file_extension": ".py",
      "mimetype": "text/x-python",
      "name": "python",
      "nbconvert_exporter": "python",
      "pygments_lexer": "ipython3",
      "version": "3.11.4"
    },
    "colab": {
      "provenance": []
    }
  },
  "nbformat": 4,
  "nbformat_minor": 0
}
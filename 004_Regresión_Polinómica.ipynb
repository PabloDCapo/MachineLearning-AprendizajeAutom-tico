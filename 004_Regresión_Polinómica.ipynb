{
  "cells": [
    {
      "cell_type": "markdown",
      "metadata": {
        "id": "YCIyqeYQ7Z4G"
      },
      "source": [
        "# Regresión Polinomial con scikit-learn\n",
        "La implementación de la regresión polinomial con scikit-learn es muy similar a la regresión lineal. Solo hay un paso adicional: debe transformar la matriz de entradas para incluir términos no lineales como 𝑥².\n",
        "### 1. Importar paquetes y clases\n",
        "Además de **numpy** y **sklearn.linear_model.LinearRegression**, también debe importar la clase **PolynomialFeatures de sklearn.preprocessing**:"
      ]
    },
    {
      "cell_type": "code",
      "execution_count": null,
      "metadata": {
        "id": "m10UG8Tj7Z4L"
      },
      "outputs": [],
      "source": [
        "import numpy as np\n",
        "from sklearn.linear_model import LinearRegression\n",
        "from sklearn.preprocessing import PolynomialFeatures"
      ]
    },
    {
      "cell_type": "markdown",
      "metadata": {
        "id": "q38DoF-L7Z4N"
      },
      "source": [
        "### 2. Proporcionar datos"
      ]
    },
    {
      "cell_type": "code",
      "execution_count": null,
      "metadata": {
        "id": "32JJSpwr7Z4O"
      },
      "outputs": [],
      "source": [
        "x = np.array([5, 15, 25, 35, 45, 55]).reshape((-1, 1))\n",
        "y = np.array([28, 11, 2, 9, 29, 30])"
      ]
    },
    {
      "cell_type": "markdown",
      "metadata": {
        "id": "NJ8nGeGG7Z4P"
      },
      "source": [
        "Ya tenemos las dos matrices: la entrada, **x** y la salida **y**. Debe llamar a la función **reshape()** a **x** porque esta matriz debe ser bidimensional, o más precisamente, debe tener una columna y tantas filas como sea necesario. Eso es exactamente lo que especifica el argumento (-1, 1) de **reshape()**."
      ]
    },
    {
      "cell_type": "code",
      "execution_count": null,
      "metadata": {
        "id": "R7E6hvic7Z4P",
        "outputId": "548dd343-372f-4cf9-ecab-c972c8b76e0f"
      },
      "outputs": [
        {
          "data": {
            "text/plain": [
              "array([[ 5],\n",
              "       [15],\n",
              "       [25],\n",
              "       [35],\n",
              "       [45],\n",
              "       [55]])"
            ]
          },
          "execution_count": 3,
          "metadata": {},
          "output_type": "execute_result"
        }
      ],
      "source": [
        "x"
      ]
    },
    {
      "cell_type": "code",
      "execution_count": null,
      "metadata": {
        "id": "KlGmhi887Z4Q",
        "outputId": "639cb8d9-e85c-477f-b900-8e2174a4ff14"
      },
      "outputs": [
        {
          "data": {
            "text/plain": [
              "(6, 1)"
            ]
          },
          "execution_count": 4,
          "metadata": {},
          "output_type": "execute_result"
        }
      ],
      "source": [
        "x.shape"
      ]
    },
    {
      "cell_type": "code",
      "execution_count": null,
      "metadata": {
        "id": "Haa7T1oz7Z4S",
        "outputId": "c894a1cb-dce7-488b-dd40-007f7eec65cb"
      },
      "outputs": [
        {
          "data": {
            "text/plain": [
              "array([28, 11,  2,  9, 29, 30])"
            ]
          },
          "execution_count": 5,
          "metadata": {},
          "output_type": "execute_result"
        }
      ],
      "source": [
        "y"
      ]
    },
    {
      "cell_type": "code",
      "execution_count": null,
      "metadata": {
        "id": "f6q-Y7L27Z4T",
        "outputId": "6c2dee1f-e1bf-4cae-e23a-068aac20fcbf"
      },
      "outputs": [
        {
          "data": {
            "text/plain": [
              "(6,)"
            ]
          },
          "execution_count": 6,
          "metadata": {},
          "output_type": "execute_result"
        }
      ],
      "source": [
        "y.shape"
      ]
    },
    {
      "cell_type": "markdown",
      "metadata": {
        "id": "hAuu_Wxf7Z4V"
      },
      "source": [
        "Ahora podemos ver que **x** tiene dos dimensiones, mientras que **y** tiene una sola dimensión.\n",
        "\n",
        "Veamos la distribución de los datos:"
      ]
    },
    {
      "cell_type": "code",
      "execution_count": null,
      "metadata": {
        "scrolled": false,
        "id": "cRN7T0II7Z4W",
        "outputId": "89aa5fcf-68ac-480c-b4ca-42d9e6c76a81"
      },
      "outputs": [
        {
          "data": {
            "image/png": "[encoded data removed]",
            "text/plain": [
              "<Figure size 640x480 with 1 Axes>"
            ]
          },
          "metadata": {},
          "output_type": "display_data"
        }
      ],
      "source": [
        "import matplotlib.pyplot as plt\n",
        "%matplotlib inline\n",
        "\n",
        "plt.plot(x, y, \"b.\")  # círculos azules\n",
        "plt.xlabel(\"x\")\n",
        "plt.ylabel(\"y\")\n",
        "plt.show()"
      ]
    },
    {
      "cell_type": "markdown",
      "metadata": {
        "id": "VPoC6pRB7Z4X"
      },
      "source": [
        "### 3. Transformar datos de entrada\n",
        "Este es el nuevo paso que debe implementar para la regresión polinomial\n",
        "\n",
        "Debemos incluir los valores de 𝑥², y quizás otros términos, como características adicionales al implementar la regresión polinomial. Por esa razón, debe transformar la matriz de entrada **x** para que contenga columnas adicionales con los valores de 𝑥² y, eventualmente, más características.\n",
        "\n",
        "Es posible transformar la matriz de entrada de varias maneras, como usar **insert()** from numpy. Pero la clase **PolynomialFeatureses** ya viene preparada para esto.\n",
        "\n",
        "Creamos una instancia de esta clase indicando el grado de polinomio que deseamos:"
      ]
    },
    {
      "cell_type": "code",
      "execution_count": null,
      "metadata": {
        "id": "VTEkyGJe7Z4Y"
      },
      "outputs": [],
      "source": [
        "transformer = PolynomialFeatures(degree=2, include_bias=False)"
      ]
    },
    {
      "cell_type": "markdown",
      "metadata": {
        "id": "ctPmLt0b7Z4b"
      },
      "source": [
        "La variable **transformer** proporciona varios parámetros opcionales para la clase **PolynomialFeatures**:\n",
        "* **degreees** un número entero (igual a 2 por defecto) que representa el grado de la función de regresión polinomial.\n",
        "* **interaction_only** es un valor booleano (False por defecto) que decide si incluir solo funciones de interacción (True) o todas las funciones (False).\n",
        "* **include_biases** un valor booleano (True por defecto) que decide si incluir o no, la columna de 1 valor de sesgo o intercepción ( ).\n",
        "\n",
        "En este ejemplo utilizamos los valores por default en todos los parámetros excepto include_bias.\n",
        "\n",
        "Paso siguiente aplicar a la variable **transformer** el método **fit()**:"
      ]
    },
    {
      "cell_type": "code",
      "execution_count": null,
      "metadata": {
        "scrolled": false,
        "id": "L04-g_X-7Z4c",
        "outputId": "1f1a7873-2ceb-4d6b-d462-92cf531e0473"
      },
      "outputs": [
        {
          "data": {
            "text/html": [
              "<style>#sk-container-id-2 {color: black;background-color: white;}#sk-container-id-2 pre{padding: 0;}#sk-container-id-2 div.sk-toggleable {background-color: white;}#sk-container-id-2 label.sk-toggleable__label {cursor: pointer;display: block;width: 100%;margin-bottom: 0;padding: 0.3em;box-sizing: border-box;text-align: center;}#sk-container-id-2 label.sk-toggleable__label-arrow:before {content: \"▸\";float: left;margin-right: 0.25em;color: #696969;}#sk-container-id-2 label.sk-toggleable__label-arrow:hover:before {color: black;}#sk-container-id-2 div.sk-estimator:hover label.sk-toggleable__label-arrow:before {color: black;}#sk-container-id-2 div.sk-toggleable__content {max-height: 0;max-width: 0;overflow: hidden;text-align: left;background-color: #f0f8ff;}#sk-container-id-2 div.sk-toggleable__content pre {margin: 0.2em;color: black;border-radius: 0.25em;background-color: #f0f8ff;}#sk-container-id-2 input.sk-toggleable__control:checked~div.sk-toggleable__content {max-height: 200px;max-width: 100%;overflow: auto;}#sk-container-id-2 input.sk-toggleable__control:checked~label.sk-toggleable__label-arrow:before {content: \"▾\";}#sk-container-id-2 div.sk-estimator input.sk-toggleable__control:checked~label.sk-toggleable__label {background-color: #d4ebff;}#sk-container-id-2 div.sk-label input.sk-toggleable__control:checked~label.sk-toggleable__label {background-color: #d4ebff;}#sk-container-id-2 input.sk-hidden--visually {border: 0;clip: rect(1px 1px 1px 1px);clip: rect(1px, 1px, 1px, 1px);height: 1px;margin: -1px;overflow: hidden;padding: 0;position: absolute;width: 1px;}#sk-container-id-2 div.sk-estimator {font-family: monospace;background-color: #f0f8ff;border: 1px dotted black;border-radius: 0.25em;box-sizing: border-box;margin-bottom: 0.5em;}#sk-container-id-2 div.sk-estimator:hover {background-color: #d4ebff;}#sk-container-id-2 div.sk-parallel-item::after {content: \"\";width: 100%;border-bottom: 1px solid gray;flex-grow: 1;}#sk-container-id-2 div.sk-label:hover label.sk-toggleable__label {background-color: #d4ebff;}#sk-container-id-2 div.sk-serial::before {content: \"\";position: absolute;border-left: 1px solid gray;box-sizing: border-box;top: 0;bottom: 0;left: 50%;z-index: 0;}#sk-container-id-2 div.sk-serial {display: flex;flex-direction: column;align-items: center;background-color: white;padding-right: 0.2em;padding-left: 0.2em;position: relative;}#sk-container-id-2 div.sk-item {position: relative;z-index: 1;}#sk-container-id-2 div.sk-parallel {display: flex;align-items: stretch;justify-content: center;background-color: white;position: relative;}#sk-container-id-2 div.sk-item::before, #sk-container-id-2 div.sk-parallel-item::before {content: \"\";position: absolute;border-left: 1px solid gray;box-sizing: border-box;top: 0;bottom: 0;left: 50%;z-index: -1;}#sk-container-id-2 div.sk-parallel-item {display: flex;flex-direction: column;z-index: 1;position: relative;background-color: white;}#sk-container-id-2 div.sk-parallel-item:first-child::after {align-self: flex-end;width: 50%;}#sk-container-id-2 div.sk-parallel-item:last-child::after {align-self: flex-start;width: 50%;}#sk-container-id-2 div.sk-parallel-item:only-child::after {width: 0;}#sk-container-id-2 div.sk-dashed-wrapped {border: 1px dashed gray;margin: 0 0.4em 0.5em 0.4em;box-sizing: border-box;padding-bottom: 0.4em;background-color: white;}#sk-container-id-2 div.sk-label label {font-family: monospace;font-weight: bold;display: inline-block;line-height: 1.2em;}#sk-container-id-2 div.sk-label-container {text-align: center;}#sk-container-id-2 div.sk-container {/* jupyter's `normalize.less` sets `[hidden] { display: none; }` but bootstrap.min.css set `[hidden] { display: none !important; }` so we also need the `!important` here to be able to override the default hidden behavior on the sphinx rendered scikit-learn.org. See: https://github.com/scikit-learn/scikit-learn/issues/21755 */display: inline-block !important;position: relative;}#sk-container-id-2 div.sk-text-repr-fallback {display: none;}</style><div id=\"sk-container-id-2\" class=\"sk-top-container\"><div class=\"sk-text-repr-fallback\"><pre>PolynomialFeatures(include_bias=False)</pre><b>In a Jupyter environment, please rerun this cell to show the HTML representation or trust the notebook. <br />On GitHub, the HTML representation is unable to render, please try loading this page with nbviewer.org.</b></div><div class=\"sk-container\" hidden><div class=\"sk-item\"><div class=\"sk-estimator sk-toggleable\"><input class=\"sk-toggleable__control sk-hidden--visually\" id=\"sk-estimator-id-2\" type=\"checkbox\" checked><label for=\"sk-estimator-id-2\" class=\"sk-toggleable__label sk-toggleable__label-arrow\">PolynomialFeatures</label><div class=\"sk-toggleable__content\"><pre>PolynomialFeatures(include_bias=False)</pre></div></div></div></div></div>"
            ],
            "text/plain": [
              "PolynomialFeatures(include_bias=False)"
            ]
          },
          "execution_count": 29,
          "metadata": {},
          "output_type": "execute_result"
        }
      ],
      "source": [
        "transformer.fit(x)"
      ]
    },
    {
      "cell_type": "markdown",
      "metadata": {
        "id": "dxDW6kF17Z4d"
      },
      "source": [
        "Una vez aplicado la función **fit()**, podemos crear una nueva matriz de entrada modificada aplicando la función **transform()**:"
      ]
    },
    {
      "cell_type": "code",
      "execution_count": null,
      "metadata": {
        "id": "K9PCISwK7Z4d"
      },
      "outputs": [],
      "source": [
        "x_ = transformer.transform(x)"
      ]
    },
    {
      "cell_type": "code",
      "execution_count": null,
      "metadata": {
        "scrolled": true,
        "id": "aatzNbrC7Z4e",
        "outputId": "99fd2d67-dd7f-4b0f-e410-8859647105a3"
      },
      "outputs": [
        {
          "data": {
            "text/plain": [
              "array([[   5.,   25.],\n",
              "       [  15.,  225.],\n",
              "       [  25.,  625.],\n",
              "       [  35., 1225.],\n",
              "       [  45., 2025.],\n",
              "       [  55., 3025.]])"
            ]
          },
          "execution_count": 31,
          "metadata": {},
          "output_type": "execute_result"
        }
      ],
      "source": [
        "x_"
      ]
    },
    {
      "cell_type": "markdown",
      "metadata": {
        "id": "abRE1lST7Z4f"
      },
      "source": [
        "Esta transformación toma la matriz de entrada como argumento y devuelve la matriz modificada. La matriz de entrada modificada contiene dos columnas: una con las entradas originales y la otra con sus cuadrados\n",
        "\n",
        "También puede usar **fit_transform()** para reemplazar las declaraciones anteriores con solo una:\n",
        "* x_ = PolynomialFeatures(degree=2, include_bias=False).fit_transform(x)"
      ]
    },
    {
      "cell_type": "markdown",
      "metadata": {
        "id": "ePl9LfjD7Z4g"
      },
      "source": [
        "### 3. Crear un modelo y entrenarlo"
      ]
    },
    {
      "cell_type": "code",
      "execution_count": null,
      "metadata": {
        "id": "DvnUkW2l7Z4h"
      },
      "outputs": [],
      "source": [
        "model = LinearRegression().fit(x_, y)"
      ]
    },
    {
      "cell_type": "markdown",
      "metadata": {
        "id": "rtORi7i-7Z4i"
      },
      "source": [
        "El modelo de regresión ahora está creado y entrenado. Está listo para hacer predicciones. Se debe tener en cuenta que el primer argumento de **fit()** es la matriz de entrada modificada **x_** y no la original **x**.\n",
        "\n",
        "Podemos calcular los coeficientes w1, w2 y b"
      ]
    },
    {
      "cell_type": "code",
      "execution_count": null,
      "metadata": {
        "id": "4X9FidcQ7Z4i",
        "outputId": "b3ddced0-3492-4d81-cff9-468fde16fe2b"
      },
      "outputs": [
        {
          "name": "stdout",
          "output_type": "stream",
          "text": [
            "coefficients: [-2.00428571  0.03678571]\n"
          ]
        }
      ],
      "source": [
        "print(f\"coefficients: {model.coef_}\")"
      ]
    },
    {
      "cell_type": "code",
      "execution_count": null,
      "metadata": {
        "id": "bvXDoX5q7Z4j",
        "outputId": "8afa96bf-8958-4df3-8862-acf531089980"
      },
      "outputs": [
        {
          "name": "stdout",
          "output_type": "stream",
          "text": [
            "intercept: 34.45892857142857\n"
          ]
        }
      ],
      "source": [
        "print(f\"intercept: {model.intercept_}\")"
      ]
    },
    {
      "cell_type": "markdown",
      "metadata": {
        "id": "P03c4IiK7Z4l"
      },
      "source": [
        "### 4. Calcular 𝑅²"
      ]
    },
    {
      "cell_type": "code",
      "execution_count": null,
      "metadata": {
        "id": "Zo1m7rb87Z4l",
        "outputId": "9ecc07a5-1f7a-4577-f217-22511db2e267"
      },
      "outputs": [
        {
          "name": "stdout",
          "output_type": "stream",
          "text": [
            "coefficient of determination: 0.7687521801173298\n"
          ]
        }
      ],
      "source": [
        "r_sq = model.score(x_, y)\n",
        "print(f\"coefficient of determination: {r_sq}\")"
      ]
    },
    {
      "cell_type": "code",
      "execution_count": null,
      "metadata": {
        "id": "gMVJA0lG7Z4o",
        "outputId": "c81a85bb-c7fa-4095-b7c4-1bc0929f1722"
      },
      "outputs": [
        {
          "data": {
            "image/png": "[encoded data removed]",
            "text/plain": [
              "<Figure size 640x480 with 1 Axes>"
            ]
          },
          "metadata": {},
          "output_type": "display_data"
        }
      ],
      "source": [
        "# Representación gráfica de la función hipótesis generada\n",
        "x1 = np.arange(0,60,0.1)\n",
        "y1 = model.coef_[(0)]*x1 + model.coef_[(1)]*(x1**2) + model.intercept_\n",
        "\n",
        "plt.plot(x1, y1, \"g-\")  # estilo de linea solida verde\n",
        "#plt.plot(df['X'], df['Y'], \"b.\")\n",
        "plt.plot(x, y, \"b.\")  # círculos azules\n",
        "plt.xlabel(\"x\")\n",
        "plt.ylabel(\"y\")\n",
        "plt.show()"
      ]
    },
    {
      "cell_type": "markdown",
      "metadata": {
        "id": "Nzb-YTwe7Z4q"
      },
      "source": [
        "Ver mas ejemplos en:\n",
        "\n",
        "https://thedataschools.com/python/regresion-polinomial/"
      ]
    },
    {
      "cell_type": "code",
      "execution_count": null,
      "metadata": {
        "id": "klRrWQ4q7Z4r"
      },
      "outputs": [],
      "source": []
    }
  ],
  "metadata": {
    "kernelspec": {
      "display_name": "Python 3 (ipykernel)",
      "language": "python",
      "name": "python3"
    },
    "language_info": {
      "codemirror_mode": {
        "name": "ipython",
        "version": 3
      },
      "file_extension": ".py",
      "mimetype": "text/x-python",
      "name": "python",
      "nbconvert_exporter": "python",
      "pygments_lexer": "ipython3",
      "version": "3.11.4"
    },
    "colab": {
      "provenance": []
    }
  },
  "nbformat": 4,
  "nbformat_minor": 0
}